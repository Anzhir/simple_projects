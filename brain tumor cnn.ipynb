{
 "cells": [
  {
   "cell_type": "code",
   "execution_count": 1,
   "metadata": {},
   "outputs": [],
   "source": [
    "import numpy as np\n",
    "import pandas as pd\n",
    "from keras.utils import to_categorical\n",
    "import matplotlib.pyplot as plt\n",
    "from sklearn.model_selection import train_test_split\n",
    "import cv2\n",
    "from keras.preprocessing.image import ImageDataGenerator"
   ]
  },
  {
   "cell_type": "code",
   "execution_count": 2,
   "metadata": {},
   "outputs": [],
   "source": [
    "data_paths=pd.read_csv('C:\\\\Users\\\\Az\\\\Desktop\\\\data_mask.csv')"
   ]
  },
  {
   "cell_type": "code",
   "execution_count": 3,
   "metadata": {},
   "outputs": [],
   "source": [
    "images_paths=data_paths['image_path']\n",
    "labels=data_paths['mask'].values\n",
    "labels=to_categorical(labels)\n",
    "path=\"C:/Users/Az/Working now/Brain_MRI/\""
   ]
  },
  {
   "cell_type": "code",
   "execution_count": 5,
   "metadata": {},
   "outputs": [],
   "source": [
    "images=np.zeros((3929,256,256,3),dtype='float32')\n",
    "for i in range(3929):\n",
    "    img=cv2.imread(path+images_paths[i])\n",
    "    images[i]=img/255"
   ]
  },
  {
   "cell_type": "code",
   "execution_count": 6,
   "metadata": {},
   "outputs": [],
   "source": [
    "x_train,x_test,y_train,y_test = train_test_split(images,labels,test_size=0.4,shuffle=True)"
   ]
  },
  {
   "cell_type": "code",
   "execution_count": 7,
   "metadata": {},
   "outputs": [],
   "source": [
    "train_datagen = ImageDataGenerator(\n",
    "rotation_range = 15,\n",
    "    width_shift_range = 0.1,\n",
    "    height_shift_range = 0.1,\n",
    "    shear_range = 0.1,\n",
    "    zoom_range = 0.1,\n",
    "    horizontal_flip = True,\n",
    "    fill_mode = \"nearest\")\n",
    "test_datagen=ImageDataGenerator(\n",
    "rotation_range = 15,\n",
    "    width_shift_range = 0.3,\n",
    "    height_shift_range = 0.3,\n",
    "    shear_range = 0.3,\n",
    "    zoom_range = 0.3,\n",
    "    horizontal_flip = True,\n",
    "    fill_mode = \"nearest\")"
   ]
  },
  {
   "cell_type": "code",
   "execution_count": 25,
   "metadata": {},
   "outputs": [],
   "source": [
    "from keras.models import Sequential\n",
    "from keras.layers import Conv2D , Flatten , MaxPool2D , BatchNormalization, Dropout,Dense\n",
    "#Create the model\n",
    "model=Sequential()\n",
    "model.add(Conv2D(filters =32 , kernel_size=(3,3) , strides=(1,1) , activation ='relu' , padding = 'valid' , input_shape=(256, 256, 3)))\n",
    "model.add(MaxPool2D(pool_size=(2,2) , padding='valid' ))\n",
    "model.add(Flatten())\n",
    "model.add(Dense(100,activation='relu'))\n",
    "model.add(Dense(2 , activation='softmax'))\n",
    "#Compile the model\n",
    "model.compile(optimizer='adam', loss='categorical_crossentropy', metrics=['accuracy'])"
   ]
  },
  {
   "cell_type": "code",
   "execution_count": 1,
   "metadata": {},
   "outputs": [],
   "source": [
    "from keras.models import Sequential\n",
    "from keras.layers import Conv2D , Flatten , MaxPool2D , BatchNormalization, Dropout,Dense\n",
    "#Create the model\n",
    "model=Sequential()\n",
    "model.add(Conv2D(filters =32 , kernel_size=(3,3) , strides=(1,1) , activation ='relu' , padding = 'valid' , input_shape=(256, 256, 3)))\n",
    "model.add(BatchNormalization())\n",
    "model.add(MaxPool2D(pool_size=(7,7)))\n",
    "model.add(Conv2D(filters =64 , kernel_size=(3,3) , strides=(1,1) , activation ='relu' , padding = 'valid'))\n",
    "model.add(BatchNormalization())\n",
    "model.add(MaxPool2D(pool_size=(3,3)))\n",
    "model.add(Conv2D(filters =64 , kernel_size=(3,3) , strides=(1,1) , activation ='relu' , padding = 'valid'))\n",
    "model.add(BatchNormalization())\n",
    "model.add(MaxPool2D(pool_size=(2,2)))\n",
    "model.add(Flatten())\n",
    "model.add(Dense(100,activation='relu'))\n",
    "model.add(Dense(2 , activation='softmax'))\n",
    "#Compile the model\n",
    "model.compile(optimizer='adam', loss='categorical_crossentropy', metrics=['accuracy'])"
   ]
  },
  {
   "cell_type": "code",
   "execution_count": 8,
   "metadata": {},
   "outputs": [
    {
     "name": "stdout",
     "output_type": "stream",
     "text": [
      "Model: \"sequential\"\n",
      "_________________________________________________________________\n",
      "Layer (type)                 Output Shape              Param #   \n",
      "=================================================================\n",
      "conv2d (Conv2D)              (None, 254, 254, 32)      896       \n",
      "_________________________________________________________________\n",
      "batch_normalization (BatchNo (None, 254, 254, 32)      128       \n",
      "_________________________________________________________________\n",
      "max_pooling2d (MaxPooling2D) (None, 36, 36, 32)        0         \n",
      "_________________________________________________________________\n",
      "conv2d_1 (Conv2D)            (None, 34, 34, 64)        18496     \n",
      "_________________________________________________________________\n",
      "batch_normalization_1 (Batch (None, 34, 34, 64)        256       \n",
      "_________________________________________________________________\n",
      "max_pooling2d_1 (MaxPooling2 (None, 11, 11, 64)        0         \n",
      "_________________________________________________________________\n",
      "conv2d_2 (Conv2D)            (None, 9, 9, 64)          36928     \n",
      "_________________________________________________________________\n",
      "batch_normalization_2 (Batch (None, 9, 9, 64)          256       \n",
      "_________________________________________________________________\n",
      "max_pooling2d_2 (MaxPooling2 (None, 4, 4, 64)          0         \n",
      "_________________________________________________________________\n",
      "flatten (Flatten)            (None, 1024)              0         \n",
      "_________________________________________________________________\n",
      "dense (Dense)                (None, 100)               102500    \n",
      "_________________________________________________________________\n",
      "dense_1 (Dense)              (None, 2)                 202       \n",
      "=================================================================\n",
      "Total params: 159,662\n",
      "Trainable params: 159,342\n",
      "Non-trainable params: 320\n",
      "_________________________________________________________________\n"
     ]
    }
   ],
   "source": [
    "model.summary()"
   ]
  },
  {
   "cell_type": "code",
   "execution_count": 12,
   "metadata": {},
   "outputs": [
    {
     "name": "stdout",
     "output_type": "stream",
     "text": [
      "Epoch 1/3\n",
      "147/147 [==============================] - 140s 948ms/step - loss: 0.2199 - accuracy: 0.9092 - val_loss: 0.2155 - val_accuracy: 0.9128\n",
      "Epoch 2/3\n",
      "147/147 [==============================] - 135s 912ms/step - loss: 0.2113 - accuracy: 0.9228 - val_loss: 0.3076 - val_accuracy: 0.8804\n",
      "Epoch 3/3\n",
      "147/147 [==============================] - 135s 915ms/step - loss: 0.1939 - accuracy: 0.9270 - val_loss: 0.2384 - val_accuracy: 0.8912\n"
     ]
    }
   ],
   "source": [
    "history=model.fit(train_datagen.flow(x_train,y_train,batch_size=16),epochs=3 , validation_data=(x_test,y_test) , batch_size=16,steps_per_epoch=len(x_train)/16)"
   ]
  },
  {
   "cell_type": "code",
   "execution_count": 13,
   "metadata": {},
   "outputs": [
    {
     "data": {
      "image/png": "[encoded data removed]",
      "text/plain": [
       "<Figure size 432x288 with 1 Axes>"
      ]
     },
     "metadata": {
      "needs_background": "light"
     },
     "output_type": "display_data"
    },
    {
     "data": {
      "image/png": "[encoded data removed]",
      "text/plain": [
       "<Figure size 432x288 with 1 Axes>"
      ]
     },
     "metadata": {
      "needs_background": "light"
     },
     "output_type": "display_data"
    }
   ],
   "source": [
    "plt.plot(history.history['accuracy'])\n",
    "plt.plot(history.history['val_accuracy'])\n",
    "plt.title('model accuracy')\n",
    "plt.ylabel('accuracy')\n",
    "plt.xlabel('epoch')\n",
    "plt.legend(['train', 'test'], loc='upper left')\n",
    "plt.show()\n",
    "# summarize history for loss\n",
    "plt.plot(history.history['loss'])\n",
    "plt.plot(history.history['val_loss'])\n",
    "plt.title('model loss')\n",
    "plt.ylabel('loss')\n",
    "plt.xlabel('epoch')\n",
    "plt.legend(['train', 'test'], loc='upper left')\n",
    "plt.show()"
   ]
  },
  {
   "cell_type": "code",
   "execution_count": null,
   "metadata": {},
   "outputs": [],
   "source": []
  },
  {
   "cell_type": "code",
   "execution_count": null,
   "metadata": {},
   "outputs": [],
   "source": []
  },
  {
   "cell_type": "code",
   "execution_count": null,
   "metadata": {},
   "outputs": [],
   "source": []
  },
  {
   "cell_type": "code",
   "execution_count": null,
   "metadata": {},
   "outputs": [],
   "source": []
  },
  {
   "cell_type": "code",
   "execution_count": 4,
   "metadata": {},
   "outputs": [],
   "source": [
    "images_paths=data_paths['image_path']\n",
    "labels=data_paths['mask'].values"
   ]
  },
  {
   "cell_type": "code",
   "execution_count": 5,
   "metadata": {},
   "outputs": [
    {
     "data": {
      "text/plain": [
       "0       TCGA_CS_5395_19981004/TCGA_CS_5395_19981004_1.tif\n",
       "1       TCGA_CS_4944_20010208/TCGA_CS_4944_20010208_1.tif\n",
       "2       TCGA_CS_4941_19960909/TCGA_CS_4941_19960909_1.tif\n",
       "3       TCGA_CS_4943_20000902/TCGA_CS_4943_20000902_1.tif\n",
       "4       TCGA_CS_5396_20010302/TCGA_CS_5396_20010302_1.tif\n",
       "                              ...                        \n",
       "3924    TCGA_HT_A61B_19991127/TCGA_HT_A61B_19991127_86...\n",
       "3925    TCGA_HT_A61A_20000127/TCGA_HT_A61A_20000127_87...\n",
       "3926    TCGA_HT_A61B_19991127/TCGA_HT_A61B_19991127_87...\n",
       "3927    TCGA_HT_A61A_20000127/TCGA_HT_A61A_20000127_88...\n",
       "3928    TCGA_HT_A61B_19991127/TCGA_HT_A61B_19991127_88...\n",
       "Name: image_path, Length: 3929, dtype: object"
      ]
     },
     "execution_count": 5,
     "metadata": {},
     "output_type": "execute_result"
    }
   ],
   "source": [
    "images_paths"
   ]
  },
  {
   "cell_type": "code",
   "execution_count": 8,
   "metadata": {},
   "outputs": [],
   "source": [
    "images=np.zeros((3929,256,256,3),dtype='uint8')\n",
    "for i in range(3929):\n",
    "    img=cv2.imread(path+images_paths[i])\n",
    "    images[i]=img"
   ]
  },
  {
   "cell_type": "code",
   "execution_count": 25,
   "metadata": {},
   "outputs": [],
   "source": [
    "for i in range(3929):\n",
    "    if labels[i]==0:\n",
    "        plt.imsave('class 0/'+ 'im'+str(i)+'.png' , images[i])\n",
    "    else :\n",
    "        plt.imsave('class1/'+ 'im'+str(i)+'.png' , images[i])"
   ]
  },
  {
   "cell_type": "code",
   "execution_count": null,
   "metadata": {},
   "outputs": [],
   "source": []
  }
 ],
 "metadata": {
  "kernelspec": {
   "display_name": "Python 3",
   "language": "python",
   "name": "python3"
  },
  "language_info": {
   "codemirror_mode": {
    "name": "ipython",
    "version": 3
   },
   "file_extension": ".py",
   "mimetype": "text/x-python",
   "name": "python",
   "nbconvert_exporter": "python",
   "pygments_lexer": "ipython3",
   "version": "3.8.3"
  }
 },
 "nbformat": 4,
 "nbformat_minor": 4
}
