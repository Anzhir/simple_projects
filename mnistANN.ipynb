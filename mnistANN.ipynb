{
  "nbformat": 4,
  "nbformat_minor": 0,
  "metadata": {
    "colab": {
      "name": "mnistANN.ipynb",
      "provenance": [],
      "collapsed_sections": [],
      "authorship_tag": "ABX9TyMFnFnCq+Rw7cvfY006Onj6",
      "include_colab_link": true
    },
    "kernelspec": {
      "name": "python3",
      "display_name": "Python 3"
    },
    "accelerator": "GPU"
  },
  "cells": [
    {
      "cell_type": "markdown",
      "metadata": {
        "id": "view-in-github",
        "colab_type": "text"
      },
      "source": [
        "<a href=\"https://colab.research.google.com/github/Anzhir/simple_projects/blob/master/mnistANN.ipynb\" target=\"_parent\"><img src=\"https://colab.research.google.com/assets/colab-badge.svg\" alt=\"Open In Colab\"/></a>"
      ]
    },
    {
      "cell_type": "code",
      "metadata": {
        "id": "lO1L97QSNOup",
        "colab": {
          "base_uri": "https://localhost:8080/"
        },
        "outputId": "30700a7f-ece1-4ded-a69b-f6228e046911"
      },
      "source": [
        "!pip install mnist\r\n",
        "import numpy as np\r\n",
        "import mnist\r\n",
        "from tensorflow.keras.models import Sequential\r\n",
        "from tensorflow.keras.layers import Dense\r\n",
        "from tensorflow.keras.utils import to_categorical\r\n",
        "from keras.optimizers import SGD ,Adam\r\n",
        "from keras.layers import Dropout\r\n",
        "import matplotlib.pyplot as plt\r\n",
        "import cv2 \r\n",
        "from keras.callbacks import EarlyStopping\r\n",
        "\r\n",
        "train_images = mnist.train_images()\r\n",
        "train_labels = mnist.train_labels()\r\n",
        "test_images = mnist.test_images()\r\n",
        "test_labels = mnist.test_labels()\r\n",
        "\r\n",
        "# Scale the images.\r\n",
        "train_images = (train_images / 255) \r\n",
        "test_images = (test_images / 255) \r\n",
        "\r\n",
        "# Flatten the images.\r\n",
        "train_images = train_images.reshape((60000, 784))\r\n",
        "test_images = test_images.reshape((10000, 784))\r\n",
        "\r\n",
        "# Build the model.\r\n",
        "model = Sequential([\r\n",
        "  Dense(64, activation='relu', input_shape=(784,)),\r\n",
        "  Dense(128, activation='relu'),\r\n",
        "  Dropout(0.5),\r\n",
        "  Dense(10, activation='softmax')\r\n",
        "])\r\n",
        "# Compile the model.\r\n",
        "\r\n",
        "model.compile(\r\n",
        "  optimizer=SGD(learning_rate=0.01),\r\n",
        "  loss='categorical_crossentropy',\r\n",
        "  metrics=['accuracy'],\r\n",
        ")\r\n",
        "#create the call backs\r\n",
        "early=EarlyStopping(monitor='val_loss' , mode='auto' , patience=2)\r\n",
        "\r\n",
        "# Train the model.\r\n",
        "history=model.fit(\r\n",
        "  train_images,\r\n",
        "  to_categorical(train_labels),\r\n",
        "  epochs=30,\r\n",
        "  batch_size=32 , validation_data=(test_images , to_categorical(test_labels)) , callbacks=[early]\r\n",
        ")"
      ],
      "execution_count": 3,
      "outputs": [
        {
          "output_type": "stream",
          "text": [
            "Requirement already satisfied: mnist in /usr/local/lib/python3.6/dist-packages (0.2.2)\n",
            "Requirement already satisfied: numpy in /usr/local/lib/python3.6/dist-packages (from mnist) (1.19.5)\n",
            "Epoch 1/30\n",
            "1875/1875 [==============================] - 6s 3ms/step - loss: 1.3225 - accuracy: 0.5707 - val_loss: 0.3452 - val_accuracy: 0.9022\n",
            "Epoch 2/30\n",
            "1875/1875 [==============================] - 6s 3ms/step - loss: 0.4352 - accuracy: 0.8736 - val_loss: 0.2747 - val_accuracy: 0.9174\n",
            "Epoch 3/30\n",
            "1875/1875 [==============================] - 6s 3ms/step - loss: 0.3481 - accuracy: 0.9018 - val_loss: 0.2333 - val_accuracy: 0.9315\n",
            "Epoch 4/30\n",
            "1875/1875 [==============================] - 6s 3ms/step - loss: 0.3074 - accuracy: 0.9121 - val_loss: 0.2050 - val_accuracy: 0.9380\n",
            "Epoch 5/30\n",
            "1875/1875 [==============================] - 6s 3ms/step - loss: 0.2732 - accuracy: 0.9231 - val_loss: 0.1874 - val_accuracy: 0.9415\n",
            "Epoch 6/30\n",
            "1875/1875 [==============================] - 6s 3ms/step - loss: 0.2508 - accuracy: 0.9289 - val_loss: 0.1698 - val_accuracy: 0.9483\n",
            "Epoch 7/30\n",
            "1875/1875 [==============================] - 6s 3ms/step - loss: 0.2305 - accuracy: 0.9348 - val_loss: 0.1598 - val_accuracy: 0.9512\n",
            "Epoch 8/30\n",
            "1875/1875 [==============================] - 6s 3ms/step - loss: 0.2095 - accuracy: 0.9409 - val_loss: 0.1482 - val_accuracy: 0.9565\n",
            "Epoch 9/30\n",
            "1875/1875 [==============================] - 6s 3ms/step - loss: 0.1914 - accuracy: 0.9461 - val_loss: 0.1396 - val_accuracy: 0.9577\n",
            "Epoch 10/30\n",
            "1875/1875 [==============================] - 6s 3ms/step - loss: 0.1895 - accuracy: 0.9469 - val_loss: 0.1327 - val_accuracy: 0.9609\n",
            "Epoch 11/30\n",
            "1875/1875 [==============================] - 6s 3ms/step - loss: 0.1737 - accuracy: 0.9500 - val_loss: 0.1273 - val_accuracy: 0.9609\n",
            "Epoch 12/30\n",
            "1875/1875 [==============================] - 6s 3ms/step - loss: 0.1675 - accuracy: 0.9523 - val_loss: 0.1222 - val_accuracy: 0.9622\n",
            "Epoch 13/30\n",
            "1875/1875 [==============================] - 6s 3ms/step - loss: 0.1564 - accuracy: 0.9561 - val_loss: 0.1162 - val_accuracy: 0.9642\n",
            "Epoch 14/30\n",
            "1875/1875 [==============================] - 6s 3ms/step - loss: 0.1495 - accuracy: 0.9576 - val_loss: 0.1137 - val_accuracy: 0.9660\n",
            "Epoch 15/30\n",
            "1875/1875 [==============================] - 6s 3ms/step - loss: 0.1401 - accuracy: 0.9594 - val_loss: 0.1084 - val_accuracy: 0.9662\n",
            "Epoch 16/30\n",
            "1875/1875 [==============================] - 6s 3ms/step - loss: 0.1333 - accuracy: 0.9616 - val_loss: 0.1060 - val_accuracy: 0.9671\n",
            "Epoch 17/30\n",
            "1875/1875 [==============================] - 6s 3ms/step - loss: 0.1282 - accuracy: 0.9633 - val_loss: 0.1052 - val_accuracy: 0.9675\n",
            "Epoch 18/30\n",
            "1875/1875 [==============================] - 6s 3ms/step - loss: 0.1263 - accuracy: 0.9641 - val_loss: 0.1059 - val_accuracy: 0.9674\n",
            "Epoch 19/30\n",
            "1875/1875 [==============================] - 6s 3ms/step - loss: 0.1210 - accuracy: 0.9655 - val_loss: 0.0983 - val_accuracy: 0.9684\n",
            "Epoch 20/30\n",
            "1875/1875 [==============================] - 6s 3ms/step - loss: 0.1128 - accuracy: 0.9674 - val_loss: 0.0975 - val_accuracy: 0.9684\n",
            "Epoch 21/30\n",
            "1875/1875 [==============================] - 6s 3ms/step - loss: 0.1112 - accuracy: 0.9672 - val_loss: 0.0929 - val_accuracy: 0.9703\n",
            "Epoch 22/30\n",
            "1875/1875 [==============================] - 6s 3ms/step - loss: 0.1063 - accuracy: 0.9694 - val_loss: 0.0917 - val_accuracy: 0.9704\n",
            "Epoch 23/30\n",
            "1875/1875 [==============================] - 6s 3ms/step - loss: 0.1053 - accuracy: 0.9696 - val_loss: 0.0897 - val_accuracy: 0.9714\n",
            "Epoch 24/30\n",
            "1875/1875 [==============================] - 6s 3ms/step - loss: 0.1007 - accuracy: 0.9702 - val_loss: 0.0895 - val_accuracy: 0.9711\n",
            "Epoch 25/30\n",
            "1875/1875 [==============================] - 6s 3ms/step - loss: 0.0965 - accuracy: 0.9726 - val_loss: 0.0903 - val_accuracy: 0.9702\n",
            "Epoch 26/30\n",
            "1875/1875 [==============================] - 6s 3ms/step - loss: 0.0949 - accuracy: 0.9736 - val_loss: 0.0869 - val_accuracy: 0.9727\n",
            "Epoch 27/30\n",
            "1875/1875 [==============================] - 6s 3ms/step - loss: 0.0922 - accuracy: 0.9734 - val_loss: 0.0853 - val_accuracy: 0.9725\n",
            "Epoch 28/30\n",
            "1875/1875 [==============================] - 6s 3ms/step - loss: 0.0911 - accuracy: 0.9734 - val_loss: 0.0832 - val_accuracy: 0.9733\n",
            "Epoch 29/30\n",
            "1875/1875 [==============================] - 6s 3ms/step - loss: 0.0919 - accuracy: 0.9725 - val_loss: 0.0856 - val_accuracy: 0.9727\n",
            "Epoch 30/30\n",
            "1875/1875 [==============================] - 6s 3ms/step - loss: 0.0848 - accuracy: 0.9746 - val_loss: 0.0833 - val_accuracy: 0.9739\n"
          ],
          "name": "stdout"
        }
      ]
    },
    {
      "cell_type": "code",
      "metadata": {
        "id": "aGQOQy-zF0x2",
        "colab": {
          "base_uri": "https://localhost:8080/",
          "height": 573
        },
        "outputId": "d8e0e578-0e70-41cb-93f5-5af796241de1"
      },
      "source": [
        "plt.plot(history.history['accuracy'])\r\n",
        "plt.plot(history.history['val_accuracy'])\r\n",
        "plt.title('model accuracy')\r\n",
        "plt.ylabel('accuracy')\r\n",
        "plt.xlabel('epoch')\r\n",
        "plt.legend(['train', 'test'], loc='upper left')\r\n",
        "plt.show()\r\n",
        "# summarize history for loss\r\n",
        "plt.plot(history.history['loss'])\r\n",
        "plt.plot(history.history['val_loss'])\r\n",
        "plt.title('model loss')\r\n",
        "plt.ylabel('loss')\r\n",
        "plt.xlabel('epoch')\r\n",
        "plt.legend(['train', 'test'], loc='upper left')\r\n",
        "plt.show()"
      ],
      "execution_count": 4,
      "outputs": [
        {
          "output_type": "display_data",
          "data": {
            "image/png": "[encoded data removed]",
            "text/plain": [
              "<Figure size 432x288 with 1 Axes>"
            ]
          },
          "metadata": {
            "tags": [],
            "needs_background": "light"
          }
        },
        {
          "output_type": "display_data",
          "data": {
            "image/png": "[encoded data removed]",
            "text/plain": [
              "<Figure size 432x288 with 1 Axes>"
            ]
          },
          "metadata": {
            "tags": [],
            "needs_background": "light"
          }
        }
      ]
    },
    {
      "cell_type": "code",
      "metadata": {
        "colab": {
          "base_uri": "https://localhost:8080/",
          "height": 282
        },
        "id": "EzY9Co3y9Aa1",
        "outputId": "cbbaa9f0-75a9-4d34-af53-2c424d54eeab"
      },
      "source": [
        "img=test_images[0].reshape((1,784)) #create batch of 1\r\n",
        "plt.imshow(test_images[0].reshape((28,28)))\r\n",
        "test_labels[0]"
      ],
      "execution_count": 5,
      "outputs": [
        {
          "output_type": "execute_result",
          "data": {
            "text/plain": [
              "7"
            ]
          },
          "metadata": {
            "tags": []
          },
          "execution_count": 5
        },
        {
          "output_type": "display_data",
          "data": {
            "image/png": "[encoded data removed]",
            "text/plain": [
              "<Figure size 432x288 with 1 Axes>"
            ]
          },
          "metadata": {
            "tags": [],
            "needs_background": "light"
          }
        }
      ]
    },
    {
      "cell_type": "code",
      "metadata": {
        "colab": {
          "base_uri": "https://localhost:8080/"
        },
        "id": "gnINPpTL-Pbf",
        "outputId": "2447dfd7-7fe1-40d1-c1cf-cdff0ce9d3d0"
      },
      "source": [
        "np.argmax(model.predict(img))"
      ],
      "execution_count": 6,
      "outputs": [
        {
          "output_type": "execute_result",
          "data": {
            "text/plain": [
              "7"
            ]
          },
          "metadata": {
            "tags": []
          },
          "execution_count": 6
        }
      ]
    },
    {
      "cell_type": "code",
      "metadata": {
        "id": "E_U1F4P2gE0_"
      },
      "source": [
        ""
      ],
      "execution_count": null,
      "outputs": []
    }
  ]
}