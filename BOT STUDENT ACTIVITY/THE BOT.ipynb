{
 "cells": [
  {
   "cell_type": "code",
   "execution_count": null,
   "metadata": {},
   "outputs": [],
   "source": [
    "import speech_recognition as sr \n",
    "import IPython.display as ipd\n",
    "import os\n",
    "from os import path\n",
    "from pydub import AudioSegment\n",
    "import scipy.constants as const\n",
    "import scipy\n",
    "from scipy.io import wavfile\n",
    "from IPython.core.display import HTML\n",
    "from __future__ import division\n",
    "import webbrowser\n",
    "import pyttsx3\n",
    "from PIL import Image\n",
    "import matplotlib.pyplot as plt\n",
    "import matplotlib.image as mpimg\n",
    "from IPython.display import Video\n",
    "from os import listdir\n",
    "from os.path import isfile, join\n",
    "import webbrowser"
   ]
  },
  {
   "cell_type": "code",
   "execution_count": null,
   "metadata": {},
   "outputs": [],
   "source": [
    "def wavPlayer(filepath): #equivalent of ipd.Audio()\n",
    "    src = \"\"\"\n",
    "    <head>\n",
    "    <meta http-equiv=\"Content-Type\" content=\"text/html; charset=utf-8\">\n",
    "    <title>Simple Test</title>\n",
    "    </head>\n",
    "    \n",
    "    <body>\n",
    "    <audio controls autoplay style=\"width:600px\" >\n",
    "      <source src=\"files/%s\" type=\"audio/wav\" />\n",
    "      Your browser does not support the audio element.\n",
    "    </audio>\n",
    "    </body>\n",
    "    \"\"\"%(filepath)\n",
    "    display(HTML(src))"
   ]
  },
  {
   "cell_type": "code",
   "execution_count": null,
   "metadata": {},
   "outputs": [],
   "source": [
    "def show_projects(image,text,audio='None',video='None'): #image path , text , audio file path #adjust this function to take the field and returns it's projects\n",
    "    img=mpimg.imread(image)\n",
    "    plt.imshow(img)\n",
    "    print(text)\n",
    "    if audio!='None':\n",
    "        wavPlayer(audio)\n",
    "    if video!='None':\n",
    "        return Video(video , embed=True)\n",
    "def wie_audio(): #women in engineering's data\n",
    "    print(\"IEEE Women In Engineering Helwan Affinity Group is promoting Women in society either in Technical or in Non-Technical Fields , \\n From the standpoint of promoting women in society, IEEE Women In Engineering is a global network of IEEE members and volunteers dedicated to promoting women engineers technology for the benefit of humanity , \\n IEEE WIE HAG strives to two main categories , one WIE Juniors that works on empowering schoolgirls through Technical and Non-Technical sessions followed by workshops , \\n two : WIE Extreme that works on developing college girls through Non-technical sessions followed by workshops \")\n",
    "    engine = pyttsx3.init()\n",
    "    voices = engine.getProperty('voices')       #getting details of current voice\n",
    "    engine.setProperty('voice', voices[1].id)\n",
    "    engine.setProperty('rate', 125)     # setting up new voice rate\n",
    "    engine.say(\"IEEE Women In Engineering Helwan Affinity Group is promoting Women in society either in Technical or in Non-Technical Fields.\")\n",
    "    engine.say(\"From the standpoint of promoting women in society, IEEE Women In Engineering is a global network of IEEE members and volunteers dedicated to promoting women engineers technology for the benefit of humanity.\")\n",
    "    engine.say(\"IEEE WIE HAG strives to two main categories , one WIE Juniors that works on empowering schoolgirls through Technical and Non-Technical sessions followed by workshops.\")\n",
    "    engine.say(\"two : WIE Extreme that works on developing college girls through Non-technical sessions followed by workshops.\")\n",
    "    engine.runAndWait()\n",
    "    \n",
    "def play_audio_for_field(text): #takes 'ras' or 'pes' or 'we' , or 'comsoc'\n",
    "    if text=='we':\n",
    "        wie_audio()\n",
    "    else :\n",
    "        onlyfiles = [f for f in listdir('bot data/'+text+'/audio') if isfile(join(\"bot data/\"+text+'/audio' , f))]\n",
    "        for i in onlyfiles:\n",
    "            paths='bot data/' + text +'/audio/' + i\n",
    "            wavPlayer(paths)\n",
    "def show_text_for_field(field): #just copy and paste the fields\n",
    "    pass"
   ]
  },
  {
   "cell_type": "code",
   "execution_count": null,
   "metadata": {},
   "outputs": [],
   "source": [
    "import speech_recognition as sr \n",
    "r=sr.Recognizer()\n",
    "def _input_from_mic(language): #takes input from mic and convert it to text\n",
    "    text=''\n",
    "    with sr.Microphone() as source:\n",
    "        print(\"Speak ....\")\n",
    "        audio=r.listen(source , phrase_time_limit=5)\n",
    "        print(\"stop\")\n",
    "        try:\n",
    "            text=r.recognize_google(audio , language=language)\n",
    "        except:\n",
    "            print(\"sorry i didn't hear what you said!\")\n",
    "    return text\n",
    "def input_from_user(language,data_type):\n",
    "    #if data_type==None:\n",
    "        #print(\"PLEASE SAY OR WRITE ANYTHING\")\n",
    "    if data_type=='Audio':\n",
    "        while(1):\n",
    "            text=_input_from_mic(language)\n",
    "            if text!='':\n",
    "                break\n",
    "            else :\n",
    "                continue\n",
    "        return text\n",
    "    elif data_type=='Text':\n",
    "        text=str(input())\n",
    "        return text\n",
    "def gTTS(text): #TEXT to speech\n",
    "    engine = pyttsx3.init()\n",
    "    voices = engine.getProperty('voices')       #getting details of current voice\n",
    "    engine.setProperty('voice', voices[1].id)\n",
    "    engine.setProperty('rate', 125) \n",
    "    engine.say(text)\n",
    "    engine.runAndWait()\n",
    "def respond(audio_file , audio_text): #the proper audio script to play\n",
    "    print(audio_text)\n",
    "    wavPlayer(audio_file)"
   ]
  },
  {
   "cell_type": "code",
   "execution_count": null,
   "metadata": {},
   "outputs": [],
   "source": [
    "#dialog zero\n",
    "gTTS(\"This is a virtual assistant for ieee event participants\")"
   ]
  },
  {
   "cell_type": "code",
   "execution_count": null,
   "metadata": {
    "scrolled": false
   },
   "outputs": [],
   "source": [
    "#DIALOGUE ONE : intro to ieee\n",
    "text='IEEE معنها institue of electrical and electronic engineeris و هي منظمة عالمية بتهتم ب technical and non technical skills عند الطلاب.'\n",
    "gTTS('would you like to know who we are?')\n",
    "gTTS('Please say yes or no!')\n",
    "dialog2=input_from_user('en' ,'Audio')\n",
    "if dialog2=='Yes'.lower() :\n",
    "    respond('bot data/intro/audio/1.wav' , text)\n",
    "else:\n",
    "    print(\"thanks for searching about us!\")"
   ]
  },
  {
   "cell_type": "code",
   "execution_count": null,
   "metadata": {},
   "outputs": [],
   "source": [
    "#dialog two : intro to kol el mgalat\n",
    "gTTS('Now Iam gonna tell you about our fields , ')\n",
    "text='in IEEE we are offering 4 fields , the first one is pes which is related to the electrical power department and the second one is comsoc which is related to  the communication department , and ras  , and  wie which is related to the women in engineering'\n",
    "engine = pyttsx3.init()\n",
    "voices = engine.getProperty('voices')       #getting details of current voice\n",
    "engine.setProperty('voice', voices[1].id)\n",
    "engine.setProperty('rate', 125)\n",
    "engine.say(text)\n",
    "print(text)\n",
    "engine.runAndWait()"
   ]
  },
  {
   "cell_type": "code",
   "execution_count": null,
   "metadata": {
    "scrolled": true
   },
   "outputs": [],
   "source": [
    "#Dialog three: choose ur field\n",
    "gTTS(\"Please say the field that you want to know about.\")\n",
    "dialog3=input_from_user(\"ar-EG\",\"Audio\")\n",
    "choosenField=''\n",
    "if 'وي' in dialog3 :\n",
    "    choosenField='we'\n",
    "elif 'بيس' in dialog3 :\n",
    "    choosenField='pes'\n",
    "elif 'ك' in dialog3:\n",
    "    choosenField='comsoc'\n",
    "else :\n",
    "    choosenField='ras'\n",
    "print(\"SHOWING \" + choosenField+\"'S DATA\")\n",
    "play_audio_for_field(choosenField)"
   ]
  },
  {
   "cell_type": "code",
   "execution_count": null,
   "metadata": {},
   "outputs": [],
   "source": [
    "#dialog 4 projects\n",
    "gTTS(\"I can show you some projects that our members in \"+choosenField+\" did , just say it\")\n",
    "new=input_from_user('ar-EG','Audio')\n",
    "if \"وريني\" or \"وري\" in new:\n",
    "    show_projects('test.jpg' , 'project describtion' , '1.wav' , 'X.mp4') #image , text , audio , video"
   ]
  },
  {
   "cell_type": "code",
   "execution_count": null,
   "metadata": {},
   "outputs": [],
   "source": [
    "#dialog 5 registeration\n",
    "gTTS(\"Would you like to register in any of our fields?\")\n",
    "ii=input_from_user('en' , 'Audio')\n",
    "if 'yes' in ii:\n",
    "    url = 'https://' + 'ieeehsb.org/choose-your-colour/'\n",
    "    webbrowser.open(url)\n",
    "else:\n",
    "    print('thanks for listening')"
   ]
  },
  {
   "cell_type": "code",
   "execution_count": null,
   "metadata": {},
   "outputs": [],
   "source": []
  }
 ],
 "metadata": {
  "kernelspec": {
   "display_name": "Python 3",
   "language": "python",
   "name": "python3"
  },
  "language_info": {
   "codemirror_mode": {
    "name": "ipython",
    "version": 3
   },
   "file_extension": ".py",
   "mimetype": "text/x-python",
   "name": "python",
   "nbconvert_exporter": "python",
   "pygments_lexer": "ipython3",
   "version": "3.8.3"
  }
 },
 "nbformat": 4,
 "nbformat_minor": 4
}
