{
  "nbformat": 4,
  "nbformat_minor": 0,
  "metadata": {
    "colab": {
      "name": "Fashion MNIST.ipynb",
      "provenance": [],
      "collapsed_sections": [],
      "authorship_tag": "ABX9TyN7JIhbFt+clKzI+rbO099B",
      "include_colab_link": true
    },
    "kernelspec": {
      "name": "python3",
      "display_name": "Python 3"
    },
    "accelerator": "GPU"
  },
  "cells": [
    {
      "cell_type": "markdown",
      "metadata": {
        "id": "view-in-github",
        "colab_type": "text"
      },
      "source": [
        "<a href=\"https://colab.research.google.com/github/Anzhir/simple_projects/blob/master/Fashion_MNIST.ipynb\" target=\"_parent\"><img src=\"https://colab.research.google.com/assets/colab-badge.svg\" alt=\"Open In Colab\"/></a>"
      ]
    },
    {
      "cell_type": "code",
      "metadata": {
        "id": "pnjWgz-tu38y"
      },
      "source": [
        "import tensorflow as tf\r\n",
        "from keras.models import Sequential\r\n",
        "from keras.layers import Dense\r\n",
        "import numpy as np\r\n",
        "from tensorflow.keras.models import Sequential\r\n",
        "from tensorflow.keras.layers import Dense\r\n",
        "from tensorflow.keras.utils import to_categorical\r\n",
        "import matplotlib.pyplot as plt\r\n",
        "from keras.layers import Conv2D , MaxPool2D\r\n",
        "from keras.layers import Flatten\r\n",
        "from tensorflow.keras.preprocessing.image import ImageDataGenerator"
      ],
      "execution_count": 1,
      "outputs": []
    },
    {
      "cell_type": "code",
      "metadata": {
        "id": "czP64lFfu_t6",
        "colab": {
          "base_uri": "https://localhost:8080/"
        },
        "outputId": "8e6529ad-6a5c-47b5-bf6e-92e1a7f175ec"
      },
      "source": [
        "#Load the data\r\n",
        "(x_train , y_train) , (x_test , y_test)=tf.keras.datasets.fashion_mnist.load_data()\r\n",
        "x_train=x_train.reshape((60000,28,28,1))\r\n",
        "x_test=x_test.reshape((10000 , 28 , 28 , 1))"
      ],
      "execution_count": 2,
      "outputs": [
        {
          "output_type": "stream",
          "text": [
            "Downloading data from https://storage.googleapis.com/tensorflow/tf-keras-datasets/train-labels-idx1-ubyte.gz\n",
            "32768/29515 [=================================] - 0s 0us/step\n",
            "Downloading data from https://storage.googleapis.com/tensorflow/tf-keras-datasets/train-images-idx3-ubyte.gz\n",
            "26427392/26421880 [==============================] - 0s 0us/step\n",
            "Downloading data from https://storage.googleapis.com/tensorflow/tf-keras-datasets/t10k-labels-idx1-ubyte.gz\n",
            "8192/5148 [===============================================] - 0s 0us/step\n",
            "Downloading data from https://storage.googleapis.com/tensorflow/tf-keras-datasets/t10k-images-idx3-ubyte.gz\n",
            "4423680/4422102 [==============================] - 0s 0us/step\n"
          ],
          "name": "stdout"
        }
      ]
    },
    {
      "cell_type": "code",
      "metadata": {
        "id": "mixzKYzpdsuL"
      },
      "source": [
        "#Scaling\r\n",
        "x_train = (x_train / 255) \r\n",
        "x_test = (x_test / 255) "
      ],
      "execution_count": 3,
      "outputs": []
    },
    {
      "cell_type": "code",
      "metadata": {
        "colab": {
          "base_uri": "https://localhost:8080/",
          "height": 282
        },
        "id": "YMKFbtZ9eKdj",
        "outputId": "829410b8-df6c-42f4-b8f2-7afedc3fdeac"
      },
      "source": [
        "#visualise a sample\r\n",
        "plt.imshow(x_train[0].reshape((28,28)))"
      ],
      "execution_count": 4,
      "outputs": [
        {
          "output_type": "execute_result",
          "data": {
            "text/plain": [
              "<matplotlib.image.AxesImage at 0x7f0521342860>"
            ]
          },
          "metadata": {
            "tags": []
          },
          "execution_count": 4
        },
        {
          "output_type": "display_data",
          "data": {
            "image/png": "[encoded data removed]",
            "text/plain": [
              "<Figure size 432x288 with 1 Axes>"
            ]
          },
          "metadata": {
            "tags": [],
            "needs_background": "light"
          }
        }
      ]
    },
    {
      "cell_type": "code",
      "metadata": {
        "colab": {
          "base_uri": "https://localhost:8080/"
        },
        "id": "3x-vasO3eajU",
        "outputId": "c0478f95-eb9d-46c6-87e9-69fe3dc34a7e"
      },
      "source": [
        "x_train.shape"
      ],
      "execution_count": 5,
      "outputs": [
        {
          "output_type": "execute_result",
          "data": {
            "text/plain": [
              "(60000, 28, 28, 1)"
            ]
          },
          "metadata": {
            "tags": []
          },
          "execution_count": 5
        }
      ]
    },
    {
      "cell_type": "code",
      "metadata": {
        "id": "M1896-qKeiU8"
      },
      "source": [
        "#Create the model\r\n",
        "model=Sequential()\r\n",
        "model.add(Conv2D(filters =32 , kernel_size=(3,3) , strides=(1,1) , activation ='relu' , padding = 'valid' , input_shape=(28, 28, 1)))\r\n",
        "model.add(MaxPool2D( pool_size=(2,2) , padding='valid' ))\r\n",
        "model.add(Flatten())\r\n",
        "model.add(Dense(100,activation='relu'))\r\n",
        "model.add(Dense(10 , activation='softmax'))\r\n",
        "#Compile the model\r\n",
        "model.compile(optimizer='adam', loss='categorical_crossentropy', metrics=['accuracy'])"
      ],
      "execution_count": 6,
      "outputs": []
    },
    {
      "cell_type": "code",
      "metadata": {
        "id": "9qMLx0F4xk1_"
      },
      "source": [
        "#data augmentation\r\n",
        "train_datagen = ImageDataGenerator(\r\n",
        "rotation_range = 15,\r\n",
        "    width_shift_range = 0.1,\r\n",
        "    height_shift_range = 0.1,\r\n",
        "    shear_range = 0.1,\r\n",
        "    zoom_range = 0.1,\r\n",
        "    horizontal_flip = True,\r\n",
        "    fill_mode = \"nearest\").flow(x_train , to_categorical(y_train))"
      ],
      "execution_count": 15,
      "outputs": []
    },
    {
      "cell_type": "code",
      "metadata": {
        "colab": {
          "base_uri": "https://localhost:8080/"
        },
        "id": "1B3aZnomzEyT",
        "outputId": "161ad306-0a59-4140-a731-bbd75fbfa597"
      },
      "source": [
        "#Create the call backs\r\n",
        "from keras.callbacks import EarlyStopping\r\n",
        "early=EarlyStopping(patience=4,monitor='val_loss')\r\n",
        "#Train the model\r\n",
        "model.fit(train_datagen,batch_size=32,  epochs=30,\r\n",
        "   validation_data=(x_test , to_categorical(y_test)) , callbacks=[early]\r\n",
        ")"
      ],
      "execution_count": 17,
      "outputs": [
        {
          "output_type": "stream",
          "text": [
            "Epoch 1/30\n",
            "1875/1875 [==============================] - 19s 10ms/step - loss: 0.3834 - accuracy: 0.8577 - val_loss: 0.3588 - val_accuracy: 0.8768\n",
            "Epoch 2/30\n",
            "1875/1875 [==============================] - 19s 10ms/step - loss: 0.3762 - accuracy: 0.8588 - val_loss: 0.3652 - val_accuracy: 0.8732\n",
            "Epoch 3/30\n",
            "1875/1875 [==============================] - 19s 10ms/step - loss: 0.3682 - accuracy: 0.8613 - val_loss: 0.3418 - val_accuracy: 0.8801\n",
            "Epoch 4/30\n",
            "1875/1875 [==============================] - 19s 10ms/step - loss: 0.3675 - accuracy: 0.8619 - val_loss: 0.3340 - val_accuracy: 0.8834\n",
            "Epoch 5/30\n",
            "1875/1875 [==============================] - 19s 10ms/step - loss: 0.3583 - accuracy: 0.8650 - val_loss: 0.3551 - val_accuracy: 0.8824\n",
            "Epoch 6/30\n",
            "1875/1875 [==============================] - 19s 10ms/step - loss: 0.3545 - accuracy: 0.8663 - val_loss: 0.3409 - val_accuracy: 0.8808\n",
            "Epoch 7/30\n",
            "1875/1875 [==============================] - 19s 10ms/step - loss: 0.3503 - accuracy: 0.8689 - val_loss: 0.3647 - val_accuracy: 0.8744\n",
            "Epoch 8/30\n",
            "1875/1875 [==============================] - 19s 10ms/step - loss: 0.3471 - accuracy: 0.8683 - val_loss: 0.3121 - val_accuracy: 0.8915\n",
            "Epoch 9/30\n",
            "1875/1875 [==============================] - 19s 10ms/step - loss: 0.3424 - accuracy: 0.8720 - val_loss: 0.3447 - val_accuracy: 0.8829\n",
            "Epoch 10/30\n",
            "1875/1875 [==============================] - 19s 10ms/step - loss: 0.3384 - accuracy: 0.8732 - val_loss: 0.3180 - val_accuracy: 0.8916\n",
            "Epoch 11/30\n",
            "1875/1875 [==============================] - 19s 10ms/step - loss: 0.3370 - accuracy: 0.8737 - val_loss: 0.3283 - val_accuracy: 0.8881\n",
            "Epoch 12/30\n",
            "1875/1875 [==============================] - 19s 10ms/step - loss: 0.3363 - accuracy: 0.8743 - val_loss: 0.3370 - val_accuracy: 0.8836\n"
          ],
          "name": "stdout"
        },
        {
          "output_type": "execute_result",
          "data": {
            "text/plain": [
              "<tensorflow.python.keras.callbacks.History at 0x7f04c0d06320>"
            ]
          },
          "metadata": {
            "tags": []
          },
          "execution_count": 17
        }
      ]
    },
    {
      "cell_type": "code",
      "metadata": {
        "colab": {
          "base_uri": "https://localhost:8080/"
        },
        "id": "JKusP9bElsKW",
        "outputId": "01532dc3-3052-4084-b92b-b0029b79cae2"
      },
      "source": [
        "test_img=x_test[0]\r\n",
        "test_img.shape"
      ],
      "execution_count": 18,
      "outputs": [
        {
          "output_type": "execute_result",
          "data": {
            "text/plain": [
              "(28, 28, 1)"
            ]
          },
          "metadata": {
            "tags": []
          },
          "execution_count": 18
        }
      ]
    },
    {
      "cell_type": "code",
      "metadata": {
        "id": "aPu-aCLylvh-"
      },
      "source": [
        "test_img=test_img.reshape((1,28,28,1))"
      ],
      "execution_count": 19,
      "outputs": []
    },
    {
      "cell_type": "code",
      "metadata": {
        "colab": {
          "base_uri": "https://localhost:8080/"
        },
        "id": "SP4IW7Lil72l",
        "outputId": "3b2de0fb-e26a-4075-ed79-856e23d57b4e"
      },
      "source": [
        "test_img.shape"
      ],
      "execution_count": 20,
      "outputs": [
        {
          "output_type": "execute_result",
          "data": {
            "text/plain": [
              "(1, 28, 28, 1)"
            ]
          },
          "metadata": {
            "tags": []
          },
          "execution_count": 20
        }
      ]
    },
    {
      "cell_type": "code",
      "metadata": {
        "colab": {
          "base_uri": "https://localhost:8080/"
        },
        "id": "0g9LbkgOl8WU",
        "outputId": "a4b09d3b-d176-440d-cbe3-a13d037eb9a7"
      },
      "source": [
        "np.argmax(model.predict(test_img))"
      ],
      "execution_count": 21,
      "outputs": [
        {
          "output_type": "execute_result",
          "data": {
            "text/plain": [
              "9"
            ]
          },
          "metadata": {
            "tags": []
          },
          "execution_count": 21
        }
      ]
    },
    {
      "cell_type": "code",
      "metadata": {
        "colab": {
          "base_uri": "https://localhost:8080/"
        },
        "id": "K2yBvWt6l9tV",
        "outputId": "ce4ec8f2-7473-4f27-e096-cf06d09bec20"
      },
      "source": [
        "y_test[0]"
      ],
      "execution_count": 22,
      "outputs": [
        {
          "output_type": "execute_result",
          "data": {
            "text/plain": [
              "9"
            ]
          },
          "metadata": {
            "tags": []
          },
          "execution_count": 22
        }
      ]
    },
    {
      "cell_type": "code",
      "metadata": {
        "id": "2MUXBlTFiysJ"
      },
      "source": [
        ""
      ],
      "execution_count": null,
      "outputs": []
    }
  ]
}