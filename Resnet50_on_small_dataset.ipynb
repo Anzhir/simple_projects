{
  "nbformat": 4,
  "nbformat_minor": 0,
  "metadata": {
    "colab": {
      "name": "Resnet50 on small dataset.ipynb",
      "provenance": [],
      "authorship_tag": "ABX9TyPhIOVeJ4ByUJsJOSCEXe4j",
      "include_colab_link": true
    },
    "kernelspec": {
      "name": "python3",
      "display_name": "Python 3"
    },
    "accelerator": "GPU"
  },
  "cells": [
    {
      "cell_type": "markdown",
      "metadata": {
        "id": "view-in-github",
        "colab_type": "text"
      },
      "source": [
        "<a href=\"https://colab.research.google.com/github/Anzhir/simple_projects/blob/master/Resnet50_on_small_dataset.ipynb\" target=\"_parent\"><img src=\"https://colab.research.google.com/assets/colab-badge.svg\" alt=\"Open In Colab\"/></a>"
      ]
    },
    {
      "cell_type": "code",
      "metadata": {
        "id": "XjdD4Tn_zmgI"
      },
      "source": [
        "from tensorflow.keras.preprocessing.image import ImageDataGenerator\r\n",
        "\r\n",
        "train_datagen = ImageDataGenerator(rescale = 1./255,\r\n",
        "                                   shear_range = 0.2,\r\n",
        "                                   zoom_range = 0.2,\r\n",
        "                                   horizontal_flip = True)\r\n",
        "\r\n",
        "test_datagen = ImageDataGenerator(rescale = 1./255)"
      ],
      "execution_count": 74,
      "outputs": []
    },
    {
      "cell_type": "code",
      "metadata": {
        "colab": {
          "base_uri": "https://localhost:8080/"
        },
        "id": "oElmXRNd5lXC",
        "outputId": "5286d906-ebdb-4d18-df60-c23d65fdd456"
      },
      "source": [
        "training_set = train_datagen.flow_from_directory('/content/data/malaria dataset/Dataset/Train',\r\n",
        "                                                 target_size = (224, 224),\r\n",
        "                                                 batch_size = 32,\r\n",
        "                                                 class_mode = 'categorical')"
      ],
      "execution_count": 75,
      "outputs": [
        {
          "output_type": "stream",
          "text": [
            "Found 416 images belonging to 2 classes.\n"
          ],
          "name": "stdout"
        }
      ]
    },
    {
      "cell_type": "code",
      "metadata": {
        "colab": {
          "base_uri": "https://localhost:8080/"
        },
        "id": "DtSygSLy5oTq",
        "outputId": "74931b99-7ff9-4454-a606-5aa0f74c70c8"
      },
      "source": [
        "test_set = test_datagen.flow_from_directory('/content/data/malaria dataset/Dataset/Test',\r\n",
        "                                            target_size = (224, 224),\r\n",
        "                                            batch_size = 32,\r\n",
        "                                            class_mode = 'categorical')"
      ],
      "execution_count": 76,
      "outputs": [
        {
          "output_type": "stream",
          "text": [
            "Found 134 images belonging to 2 classes.\n"
          ],
          "name": "stdout"
        }
      ]
    },
    {
      "cell_type": "code",
      "metadata": {
        "id": "Fz7Y9bNa5uX7"
      },
      "source": [
        "# Import the necessary packages\r\n",
        "import pandas as pd\r\n",
        "import numpy as np\r\n",
        "import os\r\n",
        "import PIL\r\n",
        "import seaborn as sns\r\n",
        "import pickle\r\n",
        "from PIL import *\r\n",
        "import cv2\r\n",
        "import tensorflow as tf\r\n",
        "from tensorflow import keras\r\n",
        "from tensorflow.keras.applications import DenseNet121\r\n",
        "from tensorflow.keras.models import Model, load_model\r\n",
        "from tensorflow.keras.initializers import glorot_uniform\r\n",
        "from tensorflow.keras.utils import plot_model\r\n",
        "from tensorflow.keras.callbacks import ReduceLROnPlateau, EarlyStopping, ModelCheckpoint, LearningRateScheduler\r\n",
        "from IPython.display import display\r\n",
        "from tensorflow.python.keras import *\r\n",
        "from tensorflow.keras.preprocessing.image import ImageDataGenerator\r\n",
        "from tensorflow.keras import layers, optimizers\r\n",
        "from tensorflow.keras.applications.resnet50 import ResNet50\r\n",
        "from tensorflow.keras.layers import *\r\n",
        "from tensorflow.keras import backend as K\r\n",
        "from keras import optimizers\r\n",
        "import matplotlib.pyplot as plt\r\n",
        "from sklearn.model_selection import train_test_split"
      ],
      "execution_count": 64,
      "outputs": []
    },
    {
      "cell_type": "code",
      "metadata": {
        "id": "9KeRLHh78Gna"
      },
      "source": [
        "def res_block(X, filter, stage):\r\n",
        "\r\n",
        "  # Convolutional_block\r\n",
        "  X_copy = X\r\n",
        "\r\n",
        "  f1 , f2, f3 = filter\r\n",
        "\r\n",
        "  # Main Path\r\n",
        "  X = Conv2D(f1, (1,1),strides = (1,1), name ='res_'+str(stage)+'_conv_a', kernel_initializer= glorot_uniform(seed = 0))(X)\r\n",
        "  X = MaxPool2D((2,2))(X)\r\n",
        "  X = BatchNormalization(axis =3, name = 'bn_'+str(stage)+'_conv_a')(X)\r\n",
        "  X = Activation('relu')(X) \r\n",
        "\r\n",
        "  X = Conv2D(f2, kernel_size = (3,3), strides =(1,1), padding = 'same', name ='res_'+str(stage)+'_conv_b', kernel_initializer= glorot_uniform(seed = 0))(X)\r\n",
        "  X = BatchNormalization(axis =3, name = 'bn_'+str(stage)+'_conv_b')(X)\r\n",
        "  X = Activation('relu')(X) \r\n",
        "\r\n",
        "  X = Conv2D(f3, kernel_size = (1,1), strides =(1,1),name ='res_'+str(stage)+'_conv_c', kernel_initializer= glorot_uniform(seed = 0))(X)\r\n",
        "  X = BatchNormalization(axis =3, name = 'bn_'+str(stage)+'_conv_c')(X)\r\n",
        "\r\n",
        "\r\n",
        "  # Short path\r\n",
        "  X_copy = Conv2D(f3, kernel_size = (1,1), strides =(1,1),name ='res_'+str(stage)+'_conv_copy', kernel_initializer= glorot_uniform(seed = 0))(X_copy)\r\n",
        "  X_copy = MaxPool2D((2,2))(X_copy)\r\n",
        "  X_copy = BatchNormalization(axis =3, name = 'bn_'+str(stage)+'_conv_copy')(X_copy)\r\n",
        "\r\n",
        "  # ADD\r\n",
        "  X = Add()([X,X_copy])\r\n",
        "  X = Activation('relu')(X)\r\n",
        "\r\n",
        "  # Identity Block 1\r\n",
        "  X_copy = X\r\n",
        "\r\n",
        "\r\n",
        "  # Main Path\r\n",
        "  X = Conv2D(f1, (1,1),strides = (1,1), name ='res_'+str(stage)+'_identity_1_a', kernel_initializer= glorot_uniform(seed = 0))(X)\r\n",
        "  X = BatchNormalization(axis =3, name = 'bn_'+str(stage)+'_identity_1_a')(X)\r\n",
        "  X = Activation('relu')(X) \r\n",
        "\r\n",
        "  X = Conv2D(f2, kernel_size = (3,3), strides =(1,1), padding = 'same', name ='res_'+str(stage)+'_identity_1_b', kernel_initializer= glorot_uniform(seed = 0))(X)\r\n",
        "  X = BatchNormalization(axis =3, name = 'bn_'+str(stage)+'_identity_1_b')(X)\r\n",
        "  X = Activation('relu')(X) \r\n",
        "\r\n",
        "  X = Conv2D(f3, kernel_size = (1,1), strides =(1,1),name ='res_'+str(stage)+'_identity_1_c', kernel_initializer= glorot_uniform(seed = 0))(X)\r\n",
        "  X = BatchNormalization(axis =3, name = 'bn_'+str(stage)+'_identity_1_c')(X)\r\n",
        "\r\n",
        "  # ADD\r\n",
        "  X = Add()([X,X_copy])\r\n",
        "  X = Activation('relu')(X)\r\n",
        "\r\n",
        "  # Identity Block 2\r\n",
        "  X_copy = X\r\n",
        "\r\n",
        "\r\n",
        "  # Main Path\r\n",
        "  X = Conv2D(f1, (1,1),strides = (1,1), name ='res_'+str(stage)+'_identity_2_a', kernel_initializer= glorot_uniform(seed = 0))(X)\r\n",
        "  X = BatchNormalization(axis =3, name = 'bn_'+str(stage)+'_identity_2_a')(X)\r\n",
        "  X = Activation('relu')(X) \r\n",
        "\r\n",
        "  X = Conv2D(f2, kernel_size = (3,3), strides =(1,1), padding = 'same', name ='res_'+str(stage)+'_identity_2_b', kernel_initializer= glorot_uniform(seed = 0))(X)\r\n",
        "  X = BatchNormalization(axis =3, name = 'bn_'+str(stage)+'_identity_2_b')(X)\r\n",
        "  X = Activation('relu')(X) \r\n",
        "\r\n",
        "  X = Conv2D(f3, kernel_size = (1,1), strides =(1,1),name ='res_'+str(stage)+'_identity_2_c', kernel_initializer= glorot_uniform(seed = 0))(X)\r\n",
        "  X = BatchNormalization(axis =3, name = 'bn_'+str(stage)+'_identity_2_c')(X)\r\n",
        "\r\n",
        "  # ADD\r\n",
        "  X = Add()([X,X_copy])\r\n",
        "  X = Activation('relu')(X)\r\n",
        "\r\n",
        "  return X"
      ],
      "execution_count": 77,
      "outputs": []
    },
    {
      "cell_type": "code",
      "metadata": {
        "colab": {
          "base_uri": "https://localhost:8080/"
        },
        "id": "QJpACAPO8JeB",
        "outputId": "29aecee1-d1f2-44f4-f64a-2d94632550e4"
      },
      "source": [
        "#MAIN MODEL\r\n",
        "input_shape = (224, 224, 3)\r\n",
        "# Input tensor shape\r\n",
        "X_input = Input(input_shape)\r\n",
        "\r\n",
        "# Zero-padding\r\n",
        "X = ZeroPadding2D((3,3))(X_input)\r\n",
        "\r\n",
        "# 1 - stage\r\n",
        "X = Conv2D(64, (7,7), strides= (2,2), name = 'conv1', kernel_initializer= glorot_uniform(seed = 0))(X)\r\n",
        "X = BatchNormalization(axis =3, name = 'bn_conv1')(X)\r\n",
        "X = Activation('relu')(X)\r\n",
        "X = MaxPooling2D((3,3), strides= (2,2))(X)\r\n",
        "\r\n",
        "# 2 - stage\r\n",
        "X = res_block(X, filter= [64,64,256], stage= 2)\r\n",
        "\r\n",
        "# 3 - stage\r\n",
        "X = res_block(X, filter= [128,128,512], stage= 3)\r\n",
        "\r\n",
        "\r\n",
        "# Average Pooling\r\n",
        "X = AveragePooling2D((2,2), name = 'Averagea_Pooling')(X)\r\n",
        "\r\n",
        "# Final layer\r\n",
        "X = Flatten()(X)\r\n",
        "X = Dense(4096, activation = 'relu')(X)\r\n",
        "X = Dropout(0.2)(X)\r\n",
        "X = Dense(2048, activation = 'relu')(X)\r\n",
        "X = Dropout(0.1)(X)\r\n",
        "#change the output\r\n",
        "X = Dense(2,activation = 'softmax')(X)\r\n",
        "\r\n",
        "\r\n",
        "model = Model(inputs= X_input, outputs = X)\r\n",
        "model.compile(optimizer = 'adam' , loss = 'categorical_crossentropy' , metrics = ['accuracy'])\r\n",
        "model.summary()"
      ],
      "execution_count": 84,
      "outputs": [
        {
          "output_type": "stream",
          "text": [
            "Model: \"model_5\"\n",
            "__________________________________________________________________________________________________\n",
            "Layer (type)                    Output Shape         Param #     Connected to                     \n",
            "==================================================================================================\n",
            "input_11 (InputLayer)           [(None, 224, 224, 3) 0                                            \n",
            "__________________________________________________________________________________________________\n",
            "zero_padding2d_5 (ZeroPadding2D (None, 230, 230, 3)  0           input_11[0][0]                   \n",
            "__________________________________________________________________________________________________\n",
            "conv1 (Conv2D)                  (None, 112, 112, 64) 9472        zero_padding2d_5[0][0]           \n",
            "__________________________________________________________________________________________________\n",
            "bn_conv1 (BatchNormalization)   (None, 112, 112, 64) 256         conv1[0][0]                      \n",
            "__________________________________________________________________________________________________\n",
            "activation_95 (Activation)      (None, 112, 112, 64) 0           bn_conv1[0][0]                   \n",
            "__________________________________________________________________________________________________\n",
            "max_pooling2d_33 (MaxPooling2D) (None, 55, 55, 64)   0           activation_95[0][0]              \n",
            "__________________________________________________________________________________________________\n",
            "res_2_conv_a (Conv2D)           (None, 55, 55, 64)   4160        max_pooling2d_33[0][0]           \n",
            "__________________________________________________________________________________________________\n",
            "max_pooling2d_34 (MaxPooling2D) (None, 27, 27, 64)   0           res_2_conv_a[0][0]               \n",
            "__________________________________________________________________________________________________\n",
            "bn_2_conv_a (BatchNormalization (None, 27, 27, 64)   256         max_pooling2d_34[0][0]           \n",
            "__________________________________________________________________________________________________\n",
            "activation_96 (Activation)      (None, 27, 27, 64)   0           bn_2_conv_a[0][0]                \n",
            "__________________________________________________________________________________________________\n",
            "res_2_conv_b (Conv2D)           (None, 27, 27, 64)   36928       activation_96[0][0]              \n",
            "__________________________________________________________________________________________________\n",
            "bn_2_conv_b (BatchNormalization (None, 27, 27, 64)   256         res_2_conv_b[0][0]               \n",
            "__________________________________________________________________________________________________\n",
            "activation_97 (Activation)      (None, 27, 27, 64)   0           bn_2_conv_b[0][0]                \n",
            "__________________________________________________________________________________________________\n",
            "res_2_conv_copy (Conv2D)        (None, 55, 55, 256)  16640       max_pooling2d_33[0][0]           \n",
            "__________________________________________________________________________________________________\n",
            "res_2_conv_c (Conv2D)           (None, 27, 27, 256)  16640       activation_97[0][0]              \n",
            "__________________________________________________________________________________________________\n",
            "max_pooling2d_35 (MaxPooling2D) (None, 27, 27, 256)  0           res_2_conv_copy[0][0]            \n",
            "__________________________________________________________________________________________________\n",
            "bn_2_conv_c (BatchNormalization (None, 27, 27, 256)  1024        res_2_conv_c[0][0]               \n",
            "__________________________________________________________________________________________________\n",
            "bn_2_conv_copy (BatchNormalizat (None, 27, 27, 256)  1024        max_pooling2d_35[0][0]           \n",
            "__________________________________________________________________________________________________\n",
            "add_30 (Add)                    (None, 27, 27, 256)  0           bn_2_conv_c[0][0]                \n",
            "                                                                 bn_2_conv_copy[0][0]             \n",
            "__________________________________________________________________________________________________\n",
            "activation_98 (Activation)      (None, 27, 27, 256)  0           add_30[0][0]                     \n",
            "__________________________________________________________________________________________________\n",
            "res_2_identity_1_a (Conv2D)     (None, 27, 27, 64)   16448       activation_98[0][0]              \n",
            "__________________________________________________________________________________________________\n",
            "bn_2_identity_1_a (BatchNormali (None, 27, 27, 64)   256         res_2_identity_1_a[0][0]         \n",
            "__________________________________________________________________________________________________\n",
            "activation_99 (Activation)      (None, 27, 27, 64)   0           bn_2_identity_1_a[0][0]          \n",
            "__________________________________________________________________________________________________\n",
            "res_2_identity_1_b (Conv2D)     (None, 27, 27, 64)   36928       activation_99[0][0]              \n",
            "__________________________________________________________________________________________________\n",
            "bn_2_identity_1_b (BatchNormali (None, 27, 27, 64)   256         res_2_identity_1_b[0][0]         \n",
            "__________________________________________________________________________________________________\n",
            "activation_100 (Activation)     (None, 27, 27, 64)   0           bn_2_identity_1_b[0][0]          \n",
            "__________________________________________________________________________________________________\n",
            "res_2_identity_1_c (Conv2D)     (None, 27, 27, 256)  16640       activation_100[0][0]             \n",
            "__________________________________________________________________________________________________\n",
            "bn_2_identity_1_c (BatchNormali (None, 27, 27, 256)  1024        res_2_identity_1_c[0][0]         \n",
            "__________________________________________________________________________________________________\n",
            "add_31 (Add)                    (None, 27, 27, 256)  0           bn_2_identity_1_c[0][0]          \n",
            "                                                                 activation_98[0][0]              \n",
            "__________________________________________________________________________________________________\n",
            "activation_101 (Activation)     (None, 27, 27, 256)  0           add_31[0][0]                     \n",
            "__________________________________________________________________________________________________\n",
            "res_2_identity_2_a (Conv2D)     (None, 27, 27, 64)   16448       activation_101[0][0]             \n",
            "__________________________________________________________________________________________________\n",
            "bn_2_identity_2_a (BatchNormali (None, 27, 27, 64)   256         res_2_identity_2_a[0][0]         \n",
            "__________________________________________________________________________________________________\n",
            "activation_102 (Activation)     (None, 27, 27, 64)   0           bn_2_identity_2_a[0][0]          \n",
            "__________________________________________________________________________________________________\n",
            "res_2_identity_2_b (Conv2D)     (None, 27, 27, 64)   36928       activation_102[0][0]             \n",
            "__________________________________________________________________________________________________\n",
            "bn_2_identity_2_b (BatchNormali (None, 27, 27, 64)   256         res_2_identity_2_b[0][0]         \n",
            "__________________________________________________________________________________________________\n",
            "activation_103 (Activation)     (None, 27, 27, 64)   0           bn_2_identity_2_b[0][0]          \n",
            "__________________________________________________________________________________________________\n",
            "res_2_identity_2_c (Conv2D)     (None, 27, 27, 256)  16640       activation_103[0][0]             \n",
            "__________________________________________________________________________________________________\n",
            "bn_2_identity_2_c (BatchNormali (None, 27, 27, 256)  1024        res_2_identity_2_c[0][0]         \n",
            "__________________________________________________________________________________________________\n",
            "add_32 (Add)                    (None, 27, 27, 256)  0           bn_2_identity_2_c[0][0]          \n",
            "                                                                 activation_101[0][0]             \n",
            "__________________________________________________________________________________________________\n",
            "activation_104 (Activation)     (None, 27, 27, 256)  0           add_32[0][0]                     \n",
            "__________________________________________________________________________________________________\n",
            "res_3_conv_a (Conv2D)           (None, 27, 27, 128)  32896       activation_104[0][0]             \n",
            "__________________________________________________________________________________________________\n",
            "max_pooling2d_36 (MaxPooling2D) (None, 13, 13, 128)  0           res_3_conv_a[0][0]               \n",
            "__________________________________________________________________________________________________\n",
            "bn_3_conv_a (BatchNormalization (None, 13, 13, 128)  512         max_pooling2d_36[0][0]           \n",
            "__________________________________________________________________________________________________\n",
            "activation_105 (Activation)     (None, 13, 13, 128)  0           bn_3_conv_a[0][0]                \n",
            "__________________________________________________________________________________________________\n",
            "res_3_conv_b (Conv2D)           (None, 13, 13, 128)  147584      activation_105[0][0]             \n",
            "__________________________________________________________________________________________________\n",
            "bn_3_conv_b (BatchNormalization (None, 13, 13, 128)  512         res_3_conv_b[0][0]               \n",
            "__________________________________________________________________________________________________\n",
            "activation_106 (Activation)     (None, 13, 13, 128)  0           bn_3_conv_b[0][0]                \n",
            "__________________________________________________________________________________________________\n",
            "res_3_conv_copy (Conv2D)        (None, 27, 27, 512)  131584      activation_104[0][0]             \n",
            "__________________________________________________________________________________________________\n",
            "res_3_conv_c (Conv2D)           (None, 13, 13, 512)  66048       activation_106[0][0]             \n",
            "__________________________________________________________________________________________________\n",
            "max_pooling2d_37 (MaxPooling2D) (None, 13, 13, 512)  0           res_3_conv_copy[0][0]            \n",
            "__________________________________________________________________________________________________\n",
            "bn_3_conv_c (BatchNormalization (None, 13, 13, 512)  2048        res_3_conv_c[0][0]               \n",
            "__________________________________________________________________________________________________\n",
            "bn_3_conv_copy (BatchNormalizat (None, 13, 13, 512)  2048        max_pooling2d_37[0][0]           \n",
            "__________________________________________________________________________________________________\n",
            "add_33 (Add)                    (None, 13, 13, 512)  0           bn_3_conv_c[0][0]                \n",
            "                                                                 bn_3_conv_copy[0][0]             \n",
            "__________________________________________________________________________________________________\n",
            "activation_107 (Activation)     (None, 13, 13, 512)  0           add_33[0][0]                     \n",
            "__________________________________________________________________________________________________\n",
            "res_3_identity_1_a (Conv2D)     (None, 13, 13, 128)  65664       activation_107[0][0]             \n",
            "__________________________________________________________________________________________________\n",
            "bn_3_identity_1_a (BatchNormali (None, 13, 13, 128)  512         res_3_identity_1_a[0][0]         \n",
            "__________________________________________________________________________________________________\n",
            "activation_108 (Activation)     (None, 13, 13, 128)  0           bn_3_identity_1_a[0][0]          \n",
            "__________________________________________________________________________________________________\n",
            "res_3_identity_1_b (Conv2D)     (None, 13, 13, 128)  147584      activation_108[0][0]             \n",
            "__________________________________________________________________________________________________\n",
            "bn_3_identity_1_b (BatchNormali (None, 13, 13, 128)  512         res_3_identity_1_b[0][0]         \n",
            "__________________________________________________________________________________________________\n",
            "activation_109 (Activation)     (None, 13, 13, 128)  0           bn_3_identity_1_b[0][0]          \n",
            "__________________________________________________________________________________________________\n",
            "res_3_identity_1_c (Conv2D)     (None, 13, 13, 512)  66048       activation_109[0][0]             \n",
            "__________________________________________________________________________________________________\n",
            "bn_3_identity_1_c (BatchNormali (None, 13, 13, 512)  2048        res_3_identity_1_c[0][0]         \n",
            "__________________________________________________________________________________________________\n",
            "add_34 (Add)                    (None, 13, 13, 512)  0           bn_3_identity_1_c[0][0]          \n",
            "                                                                 activation_107[0][0]             \n",
            "__________________________________________________________________________________________________\n",
            "activation_110 (Activation)     (None, 13, 13, 512)  0           add_34[0][0]                     \n",
            "__________________________________________________________________________________________________\n",
            "res_3_identity_2_a (Conv2D)     (None, 13, 13, 128)  65664       activation_110[0][0]             \n",
            "__________________________________________________________________________________________________\n",
            "bn_3_identity_2_a (BatchNormali (None, 13, 13, 128)  512         res_3_identity_2_a[0][0]         \n",
            "__________________________________________________________________________________________________\n",
            "activation_111 (Activation)     (None, 13, 13, 128)  0           bn_3_identity_2_a[0][0]          \n",
            "__________________________________________________________________________________________________\n",
            "res_3_identity_2_b (Conv2D)     (None, 13, 13, 128)  147584      activation_111[0][0]             \n",
            "__________________________________________________________________________________________________\n",
            "bn_3_identity_2_b (BatchNormali (None, 13, 13, 128)  512         res_3_identity_2_b[0][0]         \n",
            "__________________________________________________________________________________________________\n",
            "activation_112 (Activation)     (None, 13, 13, 128)  0           bn_3_identity_2_b[0][0]          \n",
            "__________________________________________________________________________________________________\n",
            "res_3_identity_2_c (Conv2D)     (None, 13, 13, 512)  66048       activation_112[0][0]             \n",
            "__________________________________________________________________________________________________\n",
            "bn_3_identity_2_c (BatchNormali (None, 13, 13, 512)  2048        res_3_identity_2_c[0][0]         \n",
            "__________________________________________________________________________________________________\n",
            "add_35 (Add)                    (None, 13, 13, 512)  0           bn_3_identity_2_c[0][0]          \n",
            "                                                                 activation_110[0][0]             \n",
            "__________________________________________________________________________________________________\n",
            "activation_113 (Activation)     (None, 13, 13, 512)  0           add_35[0][0]                     \n",
            "__________________________________________________________________________________________________\n",
            "Averagea_Pooling (AveragePoolin (None, 6, 6, 512)    0           activation_113[0][0]             \n",
            "__________________________________________________________________________________________________\n",
            "flatten_11 (Flatten)            (None, 18432)        0           Averagea_Pooling[0][0]           \n",
            "__________________________________________________________________________________________________\n",
            "dense_27 (Dense)                (None, 4096)         75501568    flatten_11[0][0]                 \n",
            "__________________________________________________________________________________________________\n",
            "dropout_10 (Dropout)            (None, 4096)         0           dense_27[0][0]                   \n",
            "__________________________________________________________________________________________________\n",
            "dense_28 (Dense)                (None, 2048)         8390656     dropout_10[0][0]                 \n",
            "__________________________________________________________________________________________________\n",
            "dropout_11 (Dropout)            (None, 2048)         0           dense_28[0][0]                   \n",
            "__________________________________________________________________________________________________\n",
            "dense_29 (Dense)                (None, 2)            4098        dropout_11[0][0]                 \n",
            "==================================================================================================\n",
            "Total params: 85,074,050\n",
            "Trainable params: 85,065,474\n",
            "Non-trainable params: 8,576\n",
            "__________________________________________________________________________________________________\n"
          ],
          "name": "stdout"
        }
      ]
    },
    {
      "cell_type": "code",
      "metadata": {
        "colab": {
          "base_uri": "https://localhost:8080/"
        },
        "id": "-g8_FpPm57ML",
        "outputId": "18f30570-c1e4-43f1-ea23-7d5fac0012a9"
      },
      "source": [
        "# Run the cell. It will take some time to execute\r\n",
        "r = model.fit_generator(\r\n",
        "  training_set,\r\n",
        "  validation_data=test_set,\r\n",
        "  epochs=50,\r\n",
        "  steps_per_epoch=len(training_set),\r\n",
        "  validation_steps=len(test_set)\r\n",
        ")"
      ],
      "execution_count": 85,
      "outputs": [
        {
          "output_type": "stream",
          "text": [
            "/usr/local/lib/python3.6/dist-packages/tensorflow/python/keras/engine/training.py:1844: UserWarning: `Model.fit_generator` is deprecated and will be removed in a future version. Please use `Model.fit`, which supports generators.\n",
            "  warnings.warn('`Model.fit_generator` is deprecated and '\n"
          ],
          "name": "stderr"
        },
        {
          "output_type": "stream",
          "text": [
            "Epoch 1/50\n",
            "13/13 [==============================] - 7s 406ms/step - loss: 91.7539 - accuracy: 0.4416 - val_loss: 0.7650 - val_accuracy: 0.3209\n",
            "Epoch 2/50\n",
            "13/13 [==============================] - 5s 368ms/step - loss: 1.3822 - accuracy: 0.5348 - val_loss: 0.6768 - val_accuracy: 0.6791\n",
            "Epoch 3/50\n",
            "13/13 [==============================] - 5s 369ms/step - loss: 0.6706 - accuracy: 0.6663 - val_loss: 0.6917 - val_accuracy: 0.7015\n",
            "Epoch 4/50\n",
            "13/13 [==============================] - 5s 371ms/step - loss: 0.5363 - accuracy: 0.7895 - val_loss: 0.7044 - val_accuracy: 0.3209\n",
            "Epoch 5/50\n",
            "13/13 [==============================] - 5s 373ms/step - loss: 0.3770 - accuracy: 0.8456 - val_loss: 0.7554 - val_accuracy: 0.3209\n",
            "Epoch 6/50\n",
            "13/13 [==============================] - 5s 367ms/step - loss: 0.2688 - accuracy: 0.8897 - val_loss: 0.8704 - val_accuracy: 0.3209\n",
            "Epoch 7/50\n",
            "13/13 [==============================] - 5s 367ms/step - loss: 0.2904 - accuracy: 0.8769 - val_loss: 0.8486 - val_accuracy: 0.3209\n",
            "Epoch 8/50\n",
            "13/13 [==============================] - 5s 370ms/step - loss: 0.2169 - accuracy: 0.9156 - val_loss: 0.8643 - val_accuracy: 0.3209\n",
            "Epoch 9/50\n",
            "13/13 [==============================] - 5s 368ms/step - loss: 0.1442 - accuracy: 0.9523 - val_loss: 1.4059 - val_accuracy: 0.3209\n",
            "Epoch 10/50\n",
            "13/13 [==============================] - 5s 366ms/step - loss: 0.2596 - accuracy: 0.9234 - val_loss: 1.1761 - val_accuracy: 0.3209\n",
            "Epoch 11/50\n",
            "13/13 [==============================] - 5s 367ms/step - loss: 0.2180 - accuracy: 0.9106 - val_loss: 1.3271 - val_accuracy: 0.3209\n",
            "Epoch 12/50\n",
            "13/13 [==============================] - 5s 370ms/step - loss: 0.1779 - accuracy: 0.9436 - val_loss: 1.3723 - val_accuracy: 0.3209\n",
            "Epoch 13/50\n",
            "13/13 [==============================] - 5s 370ms/step - loss: 0.1044 - accuracy: 0.9551 - val_loss: 1.9241 - val_accuracy: 0.3209\n",
            "Epoch 14/50\n",
            "13/13 [==============================] - 5s 369ms/step - loss: 0.1097 - accuracy: 0.9562 - val_loss: 3.6075 - val_accuracy: 0.3209\n",
            "Epoch 15/50\n",
            "13/13 [==============================] - 5s 366ms/step - loss: 0.0763 - accuracy: 0.9791 - val_loss: 3.0635 - val_accuracy: 0.3209\n",
            "Epoch 16/50\n",
            "13/13 [==============================] - 5s 366ms/step - loss: 0.1671 - accuracy: 0.9538 - val_loss: 0.9131 - val_accuracy: 0.3955\n",
            "Epoch 17/50\n",
            "13/13 [==============================] - 5s 367ms/step - loss: 0.0730 - accuracy: 0.9906 - val_loss: 1.2604 - val_accuracy: 0.4030\n",
            "Epoch 18/50\n",
            "13/13 [==============================] - 5s 368ms/step - loss: 0.0405 - accuracy: 0.9884 - val_loss: 2.3724 - val_accuracy: 0.3209\n",
            "Epoch 19/50\n",
            "13/13 [==============================] - 5s 366ms/step - loss: 0.0627 - accuracy: 0.9819 - val_loss: 1.7796 - val_accuracy: 0.3731\n",
            "Epoch 20/50\n",
            "13/13 [==============================] - 5s 368ms/step - loss: 0.0661 - accuracy: 0.9775 - val_loss: 1.8335 - val_accuracy: 0.4030\n",
            "Epoch 21/50\n",
            "13/13 [==============================] - 5s 370ms/step - loss: 0.0618 - accuracy: 0.9804 - val_loss: 1.5825 - val_accuracy: 0.4627\n",
            "Epoch 22/50\n",
            "13/13 [==============================] - 5s 370ms/step - loss: 0.0439 - accuracy: 0.9836 - val_loss: 0.9440 - val_accuracy: 0.6119\n",
            "Epoch 23/50\n",
            "13/13 [==============================] - 5s 365ms/step - loss: 0.0586 - accuracy: 0.9729 - val_loss: 1.3004 - val_accuracy: 0.4925\n",
            "Epoch 24/50\n",
            "13/13 [==============================] - 5s 365ms/step - loss: 0.0398 - accuracy: 0.9878 - val_loss: 0.6003 - val_accuracy: 0.6716\n",
            "Epoch 25/50\n",
            "13/13 [==============================] - 5s 371ms/step - loss: 0.0561 - accuracy: 0.9891 - val_loss: 0.7081 - val_accuracy: 0.6418\n",
            "Epoch 26/50\n",
            "13/13 [==============================] - 5s 365ms/step - loss: 0.0403 - accuracy: 0.9892 - val_loss: 1.2848 - val_accuracy: 0.4925\n",
            "Epoch 27/50\n",
            "13/13 [==============================] - 5s 366ms/step - loss: 0.0642 - accuracy: 0.9871 - val_loss: 1.2900 - val_accuracy: 0.4552\n",
            "Epoch 28/50\n",
            "13/13 [==============================] - 5s 368ms/step - loss: 0.0510 - accuracy: 0.9889 - val_loss: 0.7893 - val_accuracy: 0.6866\n",
            "Epoch 29/50\n",
            "13/13 [==============================] - 5s 368ms/step - loss: 0.0441 - accuracy: 0.9949 - val_loss: 1.2892 - val_accuracy: 0.6493\n",
            "Epoch 30/50\n",
            "13/13 [==============================] - 5s 372ms/step - loss: 0.1341 - accuracy: 0.9504 - val_loss: 29.8839 - val_accuracy: 0.6791\n",
            "Epoch 31/50\n",
            "13/13 [==============================] - 5s 400ms/step - loss: 0.0447 - accuracy: 0.9900 - val_loss: 23.9397 - val_accuracy: 0.6791\n",
            "Epoch 32/50\n",
            "13/13 [==============================] - 5s 368ms/step - loss: 0.0623 - accuracy: 0.9894 - val_loss: 13.8166 - val_accuracy: 0.6791\n",
            "Epoch 33/50\n",
            "13/13 [==============================] - 5s 364ms/step - loss: 0.0281 - accuracy: 0.9938 - val_loss: 53.8454 - val_accuracy: 0.6791\n",
            "Epoch 34/50\n",
            "13/13 [==============================] - 5s 368ms/step - loss: 0.1410 - accuracy: 0.9680 - val_loss: 61.2446 - val_accuracy: 0.6791\n",
            "Epoch 35/50\n",
            "13/13 [==============================] - 5s 367ms/step - loss: 0.0663 - accuracy: 0.9761 - val_loss: 27.4127 - val_accuracy: 0.6791\n",
            "Epoch 36/50\n",
            "13/13 [==============================] - 5s 370ms/step - loss: 0.0985 - accuracy: 0.9676 - val_loss: 36.1052 - val_accuracy: 0.6791\n",
            "Epoch 37/50\n",
            "13/13 [==============================] - 5s 371ms/step - loss: 0.0492 - accuracy: 0.9730 - val_loss: 33.3118 - val_accuracy: 0.6791\n",
            "Epoch 38/50\n",
            "13/13 [==============================] - 5s 368ms/step - loss: 0.0096 - accuracy: 0.9988 - val_loss: 32.9545 - val_accuracy: 0.6791\n",
            "Epoch 39/50\n",
            "13/13 [==============================] - 5s 367ms/step - loss: 0.0100 - accuracy: 0.9939 - val_loss: 5.3227 - val_accuracy: 0.6791\n",
            "Epoch 40/50\n",
            "13/13 [==============================] - 5s 367ms/step - loss: 0.1552 - accuracy: 0.9652 - val_loss: 62.2348 - val_accuracy: 0.6791\n",
            "Epoch 41/50\n",
            "13/13 [==============================] - 5s 366ms/step - loss: 0.0650 - accuracy: 0.9845 - val_loss: 62.4548 - val_accuracy: 0.6791\n",
            "Epoch 42/50\n",
            "13/13 [==============================] - 5s 365ms/step - loss: 0.0352 - accuracy: 0.9892 - val_loss: 4.0608 - val_accuracy: 0.6716\n",
            "Epoch 43/50\n",
            "13/13 [==============================] - 5s 365ms/step - loss: 0.0566 - accuracy: 0.9784 - val_loss: 0.0887 - val_accuracy: 0.9776\n",
            "Epoch 44/50\n",
            "13/13 [==============================] - 5s 365ms/step - loss: 0.0187 - accuracy: 0.9930 - val_loss: 0.7558 - val_accuracy: 0.7761\n",
            "Epoch 45/50\n",
            "13/13 [==============================] - 5s 367ms/step - loss: 0.0116 - accuracy: 0.9987 - val_loss: 1.1405 - val_accuracy: 0.6866\n",
            "Epoch 46/50\n",
            "13/13 [==============================] - 5s 366ms/step - loss: 0.0154 - accuracy: 0.9939 - val_loss: 1.9162 - val_accuracy: 0.6716\n",
            "Epoch 47/50\n",
            "13/13 [==============================] - 5s 367ms/step - loss: 0.0242 - accuracy: 0.9961 - val_loss: 0.2367 - val_accuracy: 0.8806\n",
            "Epoch 48/50\n",
            "13/13 [==============================] - 5s 364ms/step - loss: 0.0262 - accuracy: 0.9947 - val_loss: 0.3011 - val_accuracy: 0.8582\n",
            "Epoch 49/50\n",
            "13/13 [==============================] - 5s 369ms/step - loss: 0.0466 - accuracy: 0.9841 - val_loss: 0.0221 - val_accuracy: 0.9851\n",
            "Epoch 50/50\n",
            "13/13 [==============================] - 5s 371ms/step - loss: 0.0264 - accuracy: 0.9934 - val_loss: 0.1887 - val_accuracy: 0.9627\n"
          ],
          "name": "stdout"
        }
      ]
    },
    {
      "cell_type": "code",
      "metadata": {
        "colab": {
          "base_uri": "https://localhost:8080/",
          "height": 513
        },
        "id": "7Sg1BOjU6SCc",
        "outputId": "b33a9f48-4612-41e8-a2eb-b4a6f95a1793"
      },
      "source": [
        "import matplotlib.pyplot as plt\r\n",
        "\r\n",
        "# summarize history for accuracy\r\n",
        "# plot the loss\r\n",
        "plt.plot(r.history['loss'], label='train loss')\r\n",
        "plt.plot(r.history['val_loss'], label='val loss')\r\n",
        "plt.legend()\r\n",
        "plt.show()\r\n",
        "plt.savefig('LossVal_loss')\r\n",
        "\r\n",
        "# plot the accuracy\r\n",
        "plt.plot(r.history['accuracy'], label='train acc')\r\n",
        "plt.plot(r.history['val_accuracy'], label='val acc')\r\n",
        "plt.legend()\r\n",
        "plt.show()"
      ],
      "execution_count": 86,
      "outputs": [
        {
          "output_type": "display_data",
          "data": {
            "image/png": "[encoded data removed]",
            "text/plain": [
              "<Figure size 432x288 with 1 Axes>"
            ]
          },
          "metadata": {
            "tags": [],
            "needs_background": "light"
          }
        },
        {
          "output_type": "display_data",
          "data": {
            "image/png": "[encoded data removed]",
            "text/plain": [
              "<Figure size 432x288 with 1 Axes>"
            ]
          },
          "metadata": {
            "tags": [],
            "needs_background": "light"
          }
        }
      ]
    },
    {
      "cell_type": "code",
      "metadata": {
        "colab": {
          "base_uri": "https://localhost:8080/"
        },
        "id": "bU50xeim63VN",
        "outputId": "3bb2947c-bd7c-462e-d93b-4290c69fe971"
      },
      "source": [
        "model.evaluate(test_set)"
      ],
      "execution_count": 88,
      "outputs": [
        {
          "output_type": "stream",
          "text": [
            "5/5 [==============================] - 0s 46ms/step - loss: 0.1887 - accuracy: 0.9627\n"
          ],
          "name": "stdout"
        },
        {
          "output_type": "execute_result",
          "data": {
            "text/plain": [
              "[0.1887049525976181, 0.9626865386962891]"
            ]
          },
          "metadata": {
            "tags": []
          },
          "execution_count": 88
        }
      ]
    },
    {
      "cell_type": "code",
      "metadata": {
        "id": "RofFe2aIAGtb"
      },
      "source": [
        ""
      ],
      "execution_count": null,
      "outputs": []
    }
  ]
}