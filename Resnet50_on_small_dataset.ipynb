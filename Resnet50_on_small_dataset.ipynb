{
  "nbformat": 4,
  "nbformat_minor": 0,
  "metadata": {
    "colab": {
      "name": "Resnet50 on small dataset.ipynb",
      "provenance": [],
      "authorship_tag": "ABX9TyNfm1hXUboAMyHqyIdpDNVm",
      "include_colab_link": true
    },
    "kernelspec": {
      "name": "python3",
      "display_name": "Python 3"
    },
    "accelerator": "GPU"
  },
  "cells": [
    {
      "cell_type": "markdown",
      "metadata": {
        "id": "view-in-github",
        "colab_type": "text"
      },
      "source": [
        "<a href=\"https://colab.research.google.com/github/Anzhir/simple_projects/blob/master/Resnet50_on_small_dataset.ipynb\" target=\"_parent\"><img src=\"https://colab.research.google.com/assets/colab-badge.svg\" alt=\"Open In Colab\"/></a>"
      ]
    },
    {
      "cell_type": "code",
      "metadata": {
        "id": "XjdD4Tn_zmgI"
      },
      "source": [
        "from tensorflow.keras.preprocessing.image import ImageDataGenerator\r\n",
        "\r\n",
        "train_datagen = ImageDataGenerator(rescale = 1./255,\r\n",
        "                                   shear_range = 0.2,\r\n",
        "                                   zoom_range = 0.2,\r\n",
        "                                   horizontal_flip = True)\r\n",
        "\r\n",
        "test_datagen = ImageDataGenerator(rescale = 1./255)"
      ],
      "execution_count": 74,
      "outputs": []
    },
    {
      "cell_type": "code",
      "metadata": {
        "colab": {
          "base_uri": "https://localhost:8080/"
        },
        "id": "oElmXRNd5lXC",
        "outputId": "5286d906-ebdb-4d18-df60-c23d65fdd456"
      },
      "source": [
        "training_set = train_datagen.flow_from_directory('/content/data/malaria dataset/Dataset/Train',\r\n",
        "                                                 target_size = (224, 224),\r\n",
        "                                                 batch_size = 32,\r\n",
        "                                                 class_mode = 'categorical')"
      ],
      "execution_count": 75,
      "outputs": [
        {
          "output_type": "stream",
          "text": [
            "Found 416 images belonging to 2 classes.\n"
          ],
          "name": "stdout"
        }
      ]
    },
    {
      "cell_type": "code",
      "metadata": {
        "colab": {
          "base_uri": "https://localhost:8080/"
        },
        "id": "DtSygSLy5oTq",
        "outputId": "74931b99-7ff9-4454-a606-5aa0f74c70c8"
      },
      "source": [
        "test_set = test_datagen.flow_from_directory('/content/data/malaria dataset/Dataset/Test',\r\n",
        "                                            target_size = (224, 224),\r\n",
        "                                            batch_size = 32,\r\n",
        "                                            class_mode = 'categorical')"
      ],
      "execution_count": 76,
      "outputs": [
        {
          "output_type": "stream",
          "text": [
            "Found 134 images belonging to 2 classes.\n"
          ],
          "name": "stdout"
        }
      ]
    },
    {
      "cell_type": "code",
      "metadata": {
        "id": "Fz7Y9bNa5uX7"
      },
      "source": [
        "# Import the necessary packages\r\n",
        "import pandas as pd\r\n",
        "import numpy as np\r\n",
        "import os\r\n",
        "import PIL\r\n",
        "import seaborn as sns\r\n",
        "import pickle\r\n",
        "from PIL import *\r\n",
        "import cv2\r\n",
        "import tensorflow as tf\r\n",
        "from tensorflow import keras\r\n",
        "from tensorflow.keras.applications import DenseNet121\r\n",
        "from tensorflow.keras.models import Model, load_model\r\n",
        "from tensorflow.keras.initializers import glorot_uniform\r\n",
        "from tensorflow.keras.utils import plot_model\r\n",
        "from tensorflow.keras.callbacks import ReduceLROnPlateau, EarlyStopping, ModelCheckpoint, LearningRateScheduler\r\n",
        "from IPython.display import display\r\n",
        "from tensorflow.python.keras import *\r\n",
        "from tensorflow.keras.preprocessing.image import ImageDataGenerator\r\n",
        "from tensorflow.keras import layers, optimizers\r\n",
        "from tensorflow.keras.applications.resnet50 import ResNet50\r\n",
        "from tensorflow.keras.layers import *\r\n",
        "from tensorflow.keras import backend as K\r\n",
        "from keras import optimizers\r\n",
        "import matplotlib.pyplot as plt\r\n",
        "from sklearn.model_selection import train_test_split"
      ],
      "execution_count": 64,
      "outputs": []
    },
    {
      "cell_type": "code",
      "metadata": {
        "id": "9KeRLHh78Gna"
      },
      "source": [
        "def res_block(X, filter, stage):\r\n",
        "\r\n",
        "  # Convolutional_block\r\n",
        "  X_copy = X\r\n",
        "\r\n",
        "  f1 , f2, f3 = filter\r\n",
        "\r\n",
        "  # Main Path\r\n",
        "  X = Conv2D(f1, (1,1),strides = (1,1), name ='res_'+str(stage)+'_conv_a', kernel_initializer= glorot_uniform(seed = 0))(X)\r\n",
        "  X = MaxPool2D((2,2))(X)\r\n",
        "  X = BatchNormalization(axis =3, name = 'bn_'+str(stage)+'_conv_a')(X)\r\n",
        "  X = Activation('relu')(X) \r\n",
        "\r\n",
        "  X = Conv2D(f2, kernel_size = (3,3), strides =(1,1), padding = 'same', name ='res_'+str(stage)+'_conv_b', kernel_initializer= glorot_uniform(seed = 0))(X)\r\n",
        "  X = BatchNormalization(axis =3, name = 'bn_'+str(stage)+'_conv_b')(X)\r\n",
        "  X = Activation('relu')(X) \r\n",
        "\r\n",
        "  X = Conv2D(f3, kernel_size = (1,1), strides =(1,1),name ='res_'+str(stage)+'_conv_c', kernel_initializer= glorot_uniform(seed = 0))(X)\r\n",
        "  X = BatchNormalization(axis =3, name = 'bn_'+str(stage)+'_conv_c')(X)\r\n",
        "\r\n",
        "\r\n",
        "  # Short path\r\n",
        "  X_copy = Conv2D(f3, kernel_size = (1,1), strides =(1,1),name ='res_'+str(stage)+'_conv_copy', kernel_initializer= glorot_uniform(seed = 0))(X_copy)\r\n",
        "  X_copy = MaxPool2D((2,2))(X_copy)\r\n",
        "  X_copy = BatchNormalization(axis =3, name = 'bn_'+str(stage)+'_conv_copy')(X_copy)\r\n",
        "\r\n",
        "  # ADD\r\n",
        "  X = Add()([X,X_copy])\r\n",
        "  X = Activation('relu')(X)\r\n",
        "\r\n",
        "  # Identity Block 1\r\n",
        "  X_copy = X\r\n",
        "\r\n",
        "\r\n",
        "  # Main Path\r\n",
        "  X = Conv2D(f1, (1,1),strides = (1,1), name ='res_'+str(stage)+'_identity_1_a', kernel_initializer= glorot_uniform(seed = 0))(X)\r\n",
        "  X = BatchNormalization(axis =3, name = 'bn_'+str(stage)+'_identity_1_a')(X)\r\n",
        "  X = Activation('relu')(X) \r\n",
        "\r\n",
        "  X = Conv2D(f2, kernel_size = (3,3), strides =(1,1), padding = 'same', name ='res_'+str(stage)+'_identity_1_b', kernel_initializer= glorot_uniform(seed = 0))(X)\r\n",
        "  X = BatchNormalization(axis =3, name = 'bn_'+str(stage)+'_identity_1_b')(X)\r\n",
        "  X = Activation('relu')(X) \r\n",
        "\r\n",
        "  X = Conv2D(f3, kernel_size = (1,1), strides =(1,1),name ='res_'+str(stage)+'_identity_1_c', kernel_initializer= glorot_uniform(seed = 0))(X)\r\n",
        "  X = BatchNormalization(axis =3, name = 'bn_'+str(stage)+'_identity_1_c')(X)\r\n",
        "\r\n",
        "  # ADD\r\n",
        "  X = Add()([X,X_copy])\r\n",
        "  X = Activation('relu')(X)\r\n",
        "\r\n",
        "  # Identity Block 2\r\n",
        "  X_copy = X\r\n",
        "\r\n",
        "\r\n",
        "  # Main Path\r\n",
        "  X = Conv2D(f1, (1,1),strides = (1,1), name ='res_'+str(stage)+'_identity_2_a', kernel_initializer= glorot_uniform(seed = 0))(X)\r\n",
        "  X = BatchNormalization(axis =3, name = 'bn_'+str(stage)+'_identity_2_a')(X)\r\n",
        "  X = Activation('relu')(X) \r\n",
        "\r\n",
        "  X = Conv2D(f2, kernel_size = (3,3), strides =(1,1), padding = 'same', name ='res_'+str(stage)+'_identity_2_b', kernel_initializer= glorot_uniform(seed = 0))(X)\r\n",
        "  X = BatchNormalization(axis =3, name = 'bn_'+str(stage)+'_identity_2_b')(X)\r\n",
        "  X = Activation('relu')(X) \r\n",
        "\r\n",
        "  X = Conv2D(f3, kernel_size = (1,1), strides =(1,1),name ='res_'+str(stage)+'_identity_2_c', kernel_initializer= glorot_uniform(seed = 0))(X)\r\n",
        "  X = BatchNormalization(axis =3, name = 'bn_'+str(stage)+'_identity_2_c')(X)\r\n",
        "\r\n",
        "  # ADD\r\n",
        "  X = Add()([X,X_copy])\r\n",
        "  X = Activation('relu')(X)\r\n",
        "\r\n",
        "  return X"
      ],
      "execution_count": 77,
      "outputs": []
    },
    {
      "cell_type": "code",
      "metadata": {
        "colab": {
          "base_uri": "https://localhost:8080/"
        },
        "id": "QJpACAPO8JeB",
        "outputId": "0b60d92e-af44-4695-f349-d9dcc4226c7e"
      },
      "source": [
        "#MAIN MODEL\r\n",
        "input_shape = (224, 224, 3)\r\n",
        "# Input tensor shape\r\n",
        "X_input = Input(input_shape)\r\n",
        "\r\n",
        "# Zero-padding\r\n",
        "X = ZeroPadding2D((3,3))(X_input)\r\n",
        "\r\n",
        "# 1 - stage\r\n",
        "X = Conv2D(64, (7,7), strides= (2,2), name = 'conv1', kernel_initializer= glorot_uniform(seed = 0))(X)\r\n",
        "X = BatchNormalization(axis =3, name = 'bn_conv1')(X)\r\n",
        "X = Activation('relu')(X)\r\n",
        "X = MaxPooling2D((3,3), strides= (2,2))(X)\r\n",
        "\r\n",
        "# 2 - stage\r\n",
        "X = res_block(X, filter= [64,64,256], stage= 2)\r\n",
        "\r\n",
        "# 3 - stage\r\n",
        "X = res_block(X, filter= [128,128,512], stage= 3)\r\n",
        "\r\n",
        "\r\n",
        "# Average Pooling\r\n",
        "X = AveragePooling2D((2,2), name = 'Averagea_Pooling')(X)\r\n",
        "\r\n",
        "# Final layer\r\n",
        "X = Flatten()(X)\r\n",
        "X = Dense(4096, activation = 'relu')(X)\r\n",
        "X = Dropout(0.2)(X)\r\n",
        "X = Dense(2048, activation = 'relu')(X)\r\n",
        "X = Dropout(0.1)(X)\r\n",
        "#change the output\r\n",
        "X = Dense(2,activation = 'softmax')(X)\r\n",
        "\r\n",
        "\r\n",
        "model = Model(inputs= X_input, outputs = X)\r\n",
        "model.compile(optimizer = 'adam' , loss = 'categorical_crossentropy' , metrics = ['accuracy'])\r\n",
        "model.summary()"
      ],
      "execution_count": 99,
      "outputs": [
        {
          "output_type": "stream",
          "text": [
            "Model: \"model_9\"\n",
            "__________________________________________________________________________________________________\n",
            "Layer (type)                    Output Shape         Param #     Connected to                     \n",
            "==================================================================================================\n",
            "input_15 (InputLayer)           [(None, 224, 224, 3) 0                                            \n",
            "__________________________________________________________________________________________________\n",
            "zero_padding2d_9 (ZeroPadding2D (None, 230, 230, 3)  0           input_15[0][0]                   \n",
            "__________________________________________________________________________________________________\n",
            "conv1 (Conv2D)                  (None, 112, 112, 64) 9472        zero_padding2d_9[0][0]           \n",
            "__________________________________________________________________________________________________\n",
            "bn_conv1 (BatchNormalization)   (None, 112, 112, 64) 256         conv1[0][0]                      \n",
            "__________________________________________________________________________________________________\n",
            "activation_171 (Activation)     (None, 112, 112, 64) 0           bn_conv1[0][0]                   \n",
            "__________________________________________________________________________________________________\n",
            "max_pooling2d_53 (MaxPooling2D) (None, 55, 55, 64)   0           activation_171[0][0]             \n",
            "__________________________________________________________________________________________________\n",
            "res_2_conv_a (Conv2D)           (None, 55, 55, 64)   4160        max_pooling2d_53[0][0]           \n",
            "__________________________________________________________________________________________________\n",
            "max_pooling2d_54 (MaxPooling2D) (None, 27, 27, 64)   0           res_2_conv_a[0][0]               \n",
            "__________________________________________________________________________________________________\n",
            "bn_2_conv_a (BatchNormalization (None, 27, 27, 64)   256         max_pooling2d_54[0][0]           \n",
            "__________________________________________________________________________________________________\n",
            "activation_172 (Activation)     (None, 27, 27, 64)   0           bn_2_conv_a[0][0]                \n",
            "__________________________________________________________________________________________________\n",
            "res_2_conv_b (Conv2D)           (None, 27, 27, 64)   36928       activation_172[0][0]             \n",
            "__________________________________________________________________________________________________\n",
            "bn_2_conv_b (BatchNormalization (None, 27, 27, 64)   256         res_2_conv_b[0][0]               \n",
            "__________________________________________________________________________________________________\n",
            "activation_173 (Activation)     (None, 27, 27, 64)   0           bn_2_conv_b[0][0]                \n",
            "__________________________________________________________________________________________________\n",
            "res_2_conv_copy (Conv2D)        (None, 55, 55, 256)  16640       max_pooling2d_53[0][0]           \n",
            "__________________________________________________________________________________________________\n",
            "res_2_conv_c (Conv2D)           (None, 27, 27, 256)  16640       activation_173[0][0]             \n",
            "__________________________________________________________________________________________________\n",
            "max_pooling2d_55 (MaxPooling2D) (None, 27, 27, 256)  0           res_2_conv_copy[0][0]            \n",
            "__________________________________________________________________________________________________\n",
            "bn_2_conv_c (BatchNormalization (None, 27, 27, 256)  1024        res_2_conv_c[0][0]               \n",
            "__________________________________________________________________________________________________\n",
            "bn_2_conv_copy (BatchNormalizat (None, 27, 27, 256)  1024        max_pooling2d_55[0][0]           \n",
            "__________________________________________________________________________________________________\n",
            "add_54 (Add)                    (None, 27, 27, 256)  0           bn_2_conv_c[0][0]                \n",
            "                                                                 bn_2_conv_copy[0][0]             \n",
            "__________________________________________________________________________________________________\n",
            "activation_174 (Activation)     (None, 27, 27, 256)  0           add_54[0][0]                     \n",
            "__________________________________________________________________________________________________\n",
            "res_2_identity_1_a (Conv2D)     (None, 27, 27, 64)   16448       activation_174[0][0]             \n",
            "__________________________________________________________________________________________________\n",
            "bn_2_identity_1_a (BatchNormali (None, 27, 27, 64)   256         res_2_identity_1_a[0][0]         \n",
            "__________________________________________________________________________________________________\n",
            "activation_175 (Activation)     (None, 27, 27, 64)   0           bn_2_identity_1_a[0][0]          \n",
            "__________________________________________________________________________________________________\n",
            "res_2_identity_1_b (Conv2D)     (None, 27, 27, 64)   36928       activation_175[0][0]             \n",
            "__________________________________________________________________________________________________\n",
            "bn_2_identity_1_b (BatchNormali (None, 27, 27, 64)   256         res_2_identity_1_b[0][0]         \n",
            "__________________________________________________________________________________________________\n",
            "activation_176 (Activation)     (None, 27, 27, 64)   0           bn_2_identity_1_b[0][0]          \n",
            "__________________________________________________________________________________________________\n",
            "res_2_identity_1_c (Conv2D)     (None, 27, 27, 256)  16640       activation_176[0][0]             \n",
            "__________________________________________________________________________________________________\n",
            "bn_2_identity_1_c (BatchNormali (None, 27, 27, 256)  1024        res_2_identity_1_c[0][0]         \n",
            "__________________________________________________________________________________________________\n",
            "add_55 (Add)                    (None, 27, 27, 256)  0           bn_2_identity_1_c[0][0]          \n",
            "                                                                 activation_174[0][0]             \n",
            "__________________________________________________________________________________________________\n",
            "activation_177 (Activation)     (None, 27, 27, 256)  0           add_55[0][0]                     \n",
            "__________________________________________________________________________________________________\n",
            "res_2_identity_2_a (Conv2D)     (None, 27, 27, 64)   16448       activation_177[0][0]             \n",
            "__________________________________________________________________________________________________\n",
            "bn_2_identity_2_a (BatchNormali (None, 27, 27, 64)   256         res_2_identity_2_a[0][0]         \n",
            "__________________________________________________________________________________________________\n",
            "activation_178 (Activation)     (None, 27, 27, 64)   0           bn_2_identity_2_a[0][0]          \n",
            "__________________________________________________________________________________________________\n",
            "res_2_identity_2_b (Conv2D)     (None, 27, 27, 64)   36928       activation_178[0][0]             \n",
            "__________________________________________________________________________________________________\n",
            "bn_2_identity_2_b (BatchNormali (None, 27, 27, 64)   256         res_2_identity_2_b[0][0]         \n",
            "__________________________________________________________________________________________________\n",
            "activation_179 (Activation)     (None, 27, 27, 64)   0           bn_2_identity_2_b[0][0]          \n",
            "__________________________________________________________________________________________________\n",
            "res_2_identity_2_c (Conv2D)     (None, 27, 27, 256)  16640       activation_179[0][0]             \n",
            "__________________________________________________________________________________________________\n",
            "bn_2_identity_2_c (BatchNormali (None, 27, 27, 256)  1024        res_2_identity_2_c[0][0]         \n",
            "__________________________________________________________________________________________________\n",
            "add_56 (Add)                    (None, 27, 27, 256)  0           bn_2_identity_2_c[0][0]          \n",
            "                                                                 activation_177[0][0]             \n",
            "__________________________________________________________________________________________________\n",
            "activation_180 (Activation)     (None, 27, 27, 256)  0           add_56[0][0]                     \n",
            "__________________________________________________________________________________________________\n",
            "res_3_conv_a (Conv2D)           (None, 27, 27, 128)  32896       activation_180[0][0]             \n",
            "__________________________________________________________________________________________________\n",
            "max_pooling2d_56 (MaxPooling2D) (None, 13, 13, 128)  0           res_3_conv_a[0][0]               \n",
            "__________________________________________________________________________________________________\n",
            "bn_3_conv_a (BatchNormalization (None, 13, 13, 128)  512         max_pooling2d_56[0][0]           \n",
            "__________________________________________________________________________________________________\n",
            "activation_181 (Activation)     (None, 13, 13, 128)  0           bn_3_conv_a[0][0]                \n",
            "__________________________________________________________________________________________________\n",
            "res_3_conv_b (Conv2D)           (None, 13, 13, 128)  147584      activation_181[0][0]             \n",
            "__________________________________________________________________________________________________\n",
            "bn_3_conv_b (BatchNormalization (None, 13, 13, 128)  512         res_3_conv_b[0][0]               \n",
            "__________________________________________________________________________________________________\n",
            "activation_182 (Activation)     (None, 13, 13, 128)  0           bn_3_conv_b[0][0]                \n",
            "__________________________________________________________________________________________________\n",
            "res_3_conv_copy (Conv2D)        (None, 27, 27, 512)  131584      activation_180[0][0]             \n",
            "__________________________________________________________________________________________________\n",
            "res_3_conv_c (Conv2D)           (None, 13, 13, 512)  66048       activation_182[0][0]             \n",
            "__________________________________________________________________________________________________\n",
            "max_pooling2d_57 (MaxPooling2D) (None, 13, 13, 512)  0           res_3_conv_copy[0][0]            \n",
            "__________________________________________________________________________________________________\n",
            "bn_3_conv_c (BatchNormalization (None, 13, 13, 512)  2048        res_3_conv_c[0][0]               \n",
            "__________________________________________________________________________________________________\n",
            "bn_3_conv_copy (BatchNormalizat (None, 13, 13, 512)  2048        max_pooling2d_57[0][0]           \n",
            "__________________________________________________________________________________________________\n",
            "add_57 (Add)                    (None, 13, 13, 512)  0           bn_3_conv_c[0][0]                \n",
            "                                                                 bn_3_conv_copy[0][0]             \n",
            "__________________________________________________________________________________________________\n",
            "activation_183 (Activation)     (None, 13, 13, 512)  0           add_57[0][0]                     \n",
            "__________________________________________________________________________________________________\n",
            "res_3_identity_1_a (Conv2D)     (None, 13, 13, 128)  65664       activation_183[0][0]             \n",
            "__________________________________________________________________________________________________\n",
            "bn_3_identity_1_a (BatchNormali (None, 13, 13, 128)  512         res_3_identity_1_a[0][0]         \n",
            "__________________________________________________________________________________________________\n",
            "activation_184 (Activation)     (None, 13, 13, 128)  0           bn_3_identity_1_a[0][0]          \n",
            "__________________________________________________________________________________________________\n",
            "res_3_identity_1_b (Conv2D)     (None, 13, 13, 128)  147584      activation_184[0][0]             \n",
            "__________________________________________________________________________________________________\n",
            "bn_3_identity_1_b (BatchNormali (None, 13, 13, 128)  512         res_3_identity_1_b[0][0]         \n",
            "__________________________________________________________________________________________________\n",
            "activation_185 (Activation)     (None, 13, 13, 128)  0           bn_3_identity_1_b[0][0]          \n",
            "__________________________________________________________________________________________________\n",
            "res_3_identity_1_c (Conv2D)     (None, 13, 13, 512)  66048       activation_185[0][0]             \n",
            "__________________________________________________________________________________________________\n",
            "bn_3_identity_1_c (BatchNormali (None, 13, 13, 512)  2048        res_3_identity_1_c[0][0]         \n",
            "__________________________________________________________________________________________________\n",
            "add_58 (Add)                    (None, 13, 13, 512)  0           bn_3_identity_1_c[0][0]          \n",
            "                                                                 activation_183[0][0]             \n",
            "__________________________________________________________________________________________________\n",
            "activation_186 (Activation)     (None, 13, 13, 512)  0           add_58[0][0]                     \n",
            "__________________________________________________________________________________________________\n",
            "res_3_identity_2_a (Conv2D)     (None, 13, 13, 128)  65664       activation_186[0][0]             \n",
            "__________________________________________________________________________________________________\n",
            "bn_3_identity_2_a (BatchNormali (None, 13, 13, 128)  512         res_3_identity_2_a[0][0]         \n",
            "__________________________________________________________________________________________________\n",
            "activation_187 (Activation)     (None, 13, 13, 128)  0           bn_3_identity_2_a[0][0]          \n",
            "__________________________________________________________________________________________________\n",
            "res_3_identity_2_b (Conv2D)     (None, 13, 13, 128)  147584      activation_187[0][0]             \n",
            "__________________________________________________________________________________________________\n",
            "bn_3_identity_2_b (BatchNormali (None, 13, 13, 128)  512         res_3_identity_2_b[0][0]         \n",
            "__________________________________________________________________________________________________\n",
            "activation_188 (Activation)     (None, 13, 13, 128)  0           bn_3_identity_2_b[0][0]          \n",
            "__________________________________________________________________________________________________\n",
            "res_3_identity_2_c (Conv2D)     (None, 13, 13, 512)  66048       activation_188[0][0]             \n",
            "__________________________________________________________________________________________________\n",
            "bn_3_identity_2_c (BatchNormali (None, 13, 13, 512)  2048        res_3_identity_2_c[0][0]         \n",
            "__________________________________________________________________________________________________\n",
            "add_59 (Add)                    (None, 13, 13, 512)  0           bn_3_identity_2_c[0][0]          \n",
            "                                                                 activation_186[0][0]             \n",
            "__________________________________________________________________________________________________\n",
            "activation_189 (Activation)     (None, 13, 13, 512)  0           add_59[0][0]                     \n",
            "__________________________________________________________________________________________________\n",
            "Averagea_Pooling (AveragePoolin (None, 6, 6, 512)    0           activation_189[0][0]             \n",
            "__________________________________________________________________________________________________\n",
            "flatten_15 (Flatten)            (None, 18432)        0           Averagea_Pooling[0][0]           \n",
            "__________________________________________________________________________________________________\n",
            "dense_39 (Dense)                (None, 4096)         75501568    flatten_15[0][0]                 \n",
            "__________________________________________________________________________________________________\n",
            "dropout_18 (Dropout)            (None, 4096)         0           dense_39[0][0]                   \n",
            "__________________________________________________________________________________________________\n",
            "dense_40 (Dense)                (None, 2048)         8390656     dropout_18[0][0]                 \n",
            "__________________________________________________________________________________________________\n",
            "dropout_19 (Dropout)            (None, 2048)         0           dense_40[0][0]                   \n",
            "__________________________________________________________________________________________________\n",
            "dense_41 (Dense)                (None, 2)            4098        dropout_19[0][0]                 \n",
            "==================================================================================================\n",
            "Total params: 85,074,050\n",
            "Trainable params: 85,065,474\n",
            "Non-trainable params: 8,576\n",
            "__________________________________________________________________________________________________\n"
          ],
          "name": "stdout"
        }
      ]
    },
    {
      "cell_type": "code",
      "metadata": {
        "id": "RofFe2aIAGtb"
      },
      "source": [
        "from keras.callbacks import ModelCheckpoint\r\n",
        "checkpoint_filepath = 'checkpoint'\r\n",
        "model_checkpoint_callback = ModelCheckpoint(\r\n",
        "    filepath=checkpoint_filepath,\r\n",
        "    monitor='',\r\n",
        "    mode='auto',\r\n",
        "    save_best_only=True)"
      ],
      "execution_count": 97,
      "outputs": []
    },
    {
      "cell_type": "code",
      "metadata": {
        "colab": {
          "base_uri": "https://localhost:8080/"
        },
        "id": "-g8_FpPm57ML",
        "outputId": "9e3929ac-2cc1-4bb3-8b01-c419944312bd"
      },
      "source": [
        "# Run the cell. It will take some time to execute\r\n",
        "r = model.fit(\r\n",
        "  training_set,\r\n",
        "  epochs=50,\r\n",
        "  steps_per_epoch=len(training_set)\r\n",
        ")"
      ],
      "execution_count": 100,
      "outputs": [
        {
          "output_type": "stream",
          "text": [
            "Epoch 1/50\n",
            "13/13 [==============================] - 6s 341ms/step - loss: 85.4367 - accuracy: 0.4592\n",
            "Epoch 2/50\n",
            "13/13 [==============================] - 4s 339ms/step - loss: 1.1334 - accuracy: 0.5502\n",
            "Epoch 3/50\n",
            "13/13 [==============================] - 5s 343ms/step - loss: 1.0162 - accuracy: 0.4689\n",
            "Epoch 4/50\n",
            "13/13 [==============================] - 5s 344ms/step - loss: 0.8104 - accuracy: 0.5488\n",
            "Epoch 5/50\n",
            "13/13 [==============================] - 5s 345ms/step - loss: 0.5610 - accuracy: 0.7538\n",
            "Epoch 6/50\n",
            "13/13 [==============================] - 5s 346ms/step - loss: 0.3829 - accuracy: 0.8463\n",
            "Epoch 7/50\n",
            "13/13 [==============================] - 5s 344ms/step - loss: 0.4212 - accuracy: 0.7989\n",
            "Epoch 8/50\n",
            "13/13 [==============================] - 5s 343ms/step - loss: 0.2709 - accuracy: 0.8812\n",
            "Epoch 9/50\n",
            "13/13 [==============================] - 5s 345ms/step - loss: 0.1892 - accuracy: 0.9359\n",
            "Epoch 10/50\n",
            "13/13 [==============================] - 5s 347ms/step - loss: 0.2810 - accuracy: 0.8774\n",
            "Epoch 11/50\n",
            "13/13 [==============================] - 5s 343ms/step - loss: 0.2720 - accuracy: 0.9090\n",
            "Epoch 12/50\n",
            "13/13 [==============================] - 5s 343ms/step - loss: 0.1537 - accuracy: 0.9463\n",
            "Epoch 13/50\n",
            "13/13 [==============================] - 5s 344ms/step - loss: 0.2221 - accuracy: 0.9209\n",
            "Epoch 14/50\n",
            "13/13 [==============================] - 5s 345ms/step - loss: 0.1438 - accuracy: 0.9501\n",
            "Epoch 15/50\n",
            "13/13 [==============================] - 5s 343ms/step - loss: 0.1064 - accuracy: 0.9623\n",
            "Epoch 16/50\n",
            "13/13 [==============================] - 5s 344ms/step - loss: 0.1107 - accuracy: 0.9695\n",
            "Epoch 17/50\n",
            "13/13 [==============================] - 5s 344ms/step - loss: 0.1007 - accuracy: 0.9626\n",
            "Epoch 18/50\n",
            "13/13 [==============================] - 5s 343ms/step - loss: 0.1129 - accuracy: 0.9622\n",
            "Epoch 19/50\n",
            "13/13 [==============================] - 5s 342ms/step - loss: 0.1009 - accuracy: 0.9717\n",
            "Epoch 20/50\n",
            "13/13 [==============================] - 5s 343ms/step - loss: 0.0575 - accuracy: 0.9754\n",
            "Epoch 21/50\n",
            "13/13 [==============================] - 5s 345ms/step - loss: 0.2016 - accuracy: 0.9685\n",
            "Epoch 22/50\n",
            "13/13 [==============================] - 5s 344ms/step - loss: 0.1769 - accuracy: 0.9291\n",
            "Epoch 23/50\n",
            "13/13 [==============================] - 5s 342ms/step - loss: 0.2554 - accuracy: 0.9225\n",
            "Epoch 24/50\n",
            "13/13 [==============================] - 5s 342ms/step - loss: 0.1272 - accuracy: 0.9661\n",
            "Epoch 25/50\n",
            "13/13 [==============================] - 5s 344ms/step - loss: 0.0742 - accuracy: 0.9702\n",
            "Epoch 26/50\n",
            "13/13 [==============================] - 5s 346ms/step - loss: 0.0664 - accuracy: 0.9779\n",
            "Epoch 27/50\n",
            "13/13 [==============================] - 5s 343ms/step - loss: 0.0546 - accuracy: 0.9750\n",
            "Epoch 28/50\n",
            "13/13 [==============================] - 5s 347ms/step - loss: 0.0616 - accuracy: 0.9765\n",
            "Epoch 29/50\n",
            "13/13 [==============================] - 5s 345ms/step - loss: 0.0376 - accuracy: 0.9882\n",
            "Epoch 30/50\n",
            "13/13 [==============================] - 5s 344ms/step - loss: 0.0432 - accuracy: 0.9836\n",
            "Epoch 31/50\n",
            "13/13 [==============================] - 5s 343ms/step - loss: 0.0199 - accuracy: 0.9904\n",
            "Epoch 32/50\n",
            "13/13 [==============================] - 5s 344ms/step - loss: 0.0208 - accuracy: 0.9974\n",
            "Epoch 33/50\n",
            "13/13 [==============================] - 5s 343ms/step - loss: 0.0298 - accuracy: 0.9881\n",
            "Epoch 34/50\n",
            "13/13 [==============================] - 5s 343ms/step - loss: 0.1149 - accuracy: 0.9693\n",
            "Epoch 35/50\n",
            "13/13 [==============================] - 5s 346ms/step - loss: 0.0767 - accuracy: 0.9785\n",
            "Epoch 36/50\n",
            "13/13 [==============================] - 5s 341ms/step - loss: 0.0598 - accuracy: 0.9896\n",
            "Epoch 37/50\n",
            "13/13 [==============================] - 5s 342ms/step - loss: 0.0547 - accuracy: 0.9845\n",
            "Epoch 38/50\n",
            "13/13 [==============================] - 5s 343ms/step - loss: 0.0410 - accuracy: 0.9854\n",
            "Epoch 39/50\n",
            "13/13 [==============================] - 5s 344ms/step - loss: 0.0381 - accuracy: 0.9935\n",
            "Epoch 40/50\n",
            "13/13 [==============================] - 5s 345ms/step - loss: 0.0308 - accuracy: 0.9933\n",
            "Epoch 41/50\n",
            "13/13 [==============================] - 5s 343ms/step - loss: 0.0099 - accuracy: 0.9959\n",
            "Epoch 42/50\n",
            "13/13 [==============================] - 5s 346ms/step - loss: 0.0219 - accuracy: 0.9902\n",
            "Epoch 43/50\n",
            "13/13 [==============================] - 5s 345ms/step - loss: 0.0385 - accuracy: 0.9815\n",
            "Epoch 44/50\n",
            "13/13 [==============================] - 5s 350ms/step - loss: 0.0253 - accuracy: 0.9938\n",
            "Epoch 45/50\n",
            "13/13 [==============================] - 5s 350ms/step - loss: 0.0374 - accuracy: 0.9844\n",
            "Epoch 46/50\n",
            "13/13 [==============================] - 5s 348ms/step - loss: 0.0151 - accuracy: 0.9960\n",
            "Epoch 47/50\n",
            "13/13 [==============================] - 5s 348ms/step - loss: 0.0224 - accuracy: 0.9909\n",
            "Epoch 48/50\n",
            "13/13 [==============================] - 5s 345ms/step - loss: 0.0164 - accuracy: 0.9919\n",
            "Epoch 49/50\n",
            "13/13 [==============================] - 5s 344ms/step - loss: 0.0138 - accuracy: 0.9965\n",
            "Epoch 50/50\n",
            "13/13 [==============================] - 5s 344ms/step - loss: 0.0104 - accuracy: 0.9927\n"
          ],
          "name": "stdout"
        }
      ]
    },
    {
      "cell_type": "code",
      "metadata": {
        "colab": {
          "base_uri": "https://localhost:8080/",
          "height": 513
        },
        "id": "7Sg1BOjU6SCc",
        "outputId": "3b60e9ed-63f1-4e28-d79f-2d29011ff534"
      },
      "source": [
        "import matplotlib.pyplot as plt\r\n",
        "\r\n",
        "# summarize history for accuracy\r\n",
        "# plot the loss\r\n",
        "plt.plot(r.history['loss'], label='train loss')\r\n",
        "plt.legend()\r\n",
        "plt.show()\r\n",
        "plt.savefig('LossVal_loss')\r\n",
        "\r\n",
        "# plot the accuracy\r\n",
        "plt.plot(r.history['accuracy'], label='train acc')\r\n",
        "plt.legend()\r\n",
        "plt.show()"
      ],
      "execution_count": 102,
      "outputs": [
        {
          "output_type": "display_data",
          "data": {
            "image/png": "[encoded data removed]",
            "text/plain": [
              "<Figure size 432x288 with 1 Axes>"
            ]
          },
          "metadata": {
            "tags": [],
            "needs_background": "light"
          }
        },
        {
          "output_type": "display_data",
          "data": {
            "image/png": "[encoded data removed]",
            "text/plain": [
              "<Figure size 432x288 with 1 Axes>"
            ]
          },
          "metadata": {
            "tags": [],
            "needs_background": "light"
          }
        }
      ]
    },
    {
      "cell_type": "code",
      "metadata": {
        "colab": {
          "base_uri": "https://localhost:8080/"
        },
        "id": "bU50xeim63VN",
        "outputId": "eb2ac876-5d49-4eda-b331-ca3bfa544bbc"
      },
      "source": [
        "model.evaluate(test_set)"
      ],
      "execution_count": 103,
      "outputs": [
        {
          "output_type": "stream",
          "text": [
            "5/5 [==============================] - 1s 46ms/step - loss: 0.2405 - accuracy: 0.9701\n"
          ],
          "name": "stdout"
        },
        {
          "output_type": "execute_result",
          "data": {
            "text/plain": [
              "[0.24048148095607758, 0.9701492786407471]"
            ]
          },
          "metadata": {
            "tags": []
          },
          "execution_count": 103
        }
      ]
    }
  ]
}